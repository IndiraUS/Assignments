{
 "cells": [
  {
   "cell_type": "markdown",
   "metadata": {},
   "source": [
    "# Introduction\n",
    "    \n",
    "    Definition\n",
    "        \n",
    "        Unlike a binary tree or tree, a graph may have cycles and directed/non_directed edges.\n",
    "        \n",
    "        A graph consists of nodes and edges\n",
    "        Nodes are objects that represent some data\n",
    "        \n",
    "        Edges are pairwise relationships between nodes\n",
    "        Edges can be directed or undirected\n",
    "        \n",
    "        A path from an origin to a destination node is a sequence of edges"
   ]
  },
  {
   "cell_type": "code",
   "execution_count": 2,
   "metadata": {
    "hide_input": true,
    "scrolled": true
   },
   "outputs": [
    {
     "data": {
      "image/png": "[encoded data removed]",
      "text/plain": [
       "<IPython.core.display.Image object>"
      ]
     },
     "execution_count": 2,
     "metadata": {},
     "output_type": "execute_result"
    }
   ],
   "source": [
    "from IPython.display import Image\n",
    "Image(\"graph_images/graph_3.png\")"
   ]
  },
  {
   "cell_type": "markdown",
   "metadata": {},
   "source": [
    "    Graphs are a generalization of linked lists and binary trees\n",
    "    Any linked list or binary tree can be represented as a graph\n"
   ]
  },
  {
   "cell_type": "markdown",
   "metadata": {},
   "source": [
    "# Representation"
   ]
  },
  {
   "cell_type": "code",
   "execution_count": 2,
   "metadata": {
    "hide_input": false,
    "scrolled": true
   },
   "outputs": [
    {
     "data": {
      "image/png": "[encoded data removed]",
      "text/plain": [
       "<IPython.core.display.Image object>"
      ]
     },
     "execution_count": 2,
     "metadata": {},
     "output_type": "execute_result"
    }
   ],
   "source": [
    "from IPython.display import Image\n",
    "Image(\"graph_images/graph_3.png\")"
   ]
  },
  {
   "cell_type": "markdown",
   "metadata": {},
   "source": [
    "### Adjacency List\n",
    "        \n",
    "    A more common representation is an adjacency list\n",
    "    A dictionary maps each node to a list of nodes\n",
    "    There is a directed edge from each node, to each of the nodes in its associated list\n",
    "\n",
    "    This adjacency list:\n",
    "    adjacency_list = {\n",
    "      0: [1, 2],\n",
    "      1: [0],\n",
    "      2: [3],\n",
    "      3: [2],\n",
    "      4: [2, 3]\n",
    "    }\n",
    "\n",
    "    Represents this graph:    "
   ]
  },
  {
   "cell_type": "markdown",
   "metadata": {},
   "source": [
    "    This is a Python implementation of a graph\n",
    "    It uses directed edges and an adjacency list representation\n"
   ]
  },
  {
   "cell_type": "code",
   "execution_count": 2,
   "metadata": {},
   "outputs": [
    {
     "name": "stdout",
     "output_type": "stream",
     "text": [
      "{0: [1, 2], 1: [0], 2: [3], 3: [2], 4: [2, 3]}\n"
     ]
    }
   ],
   "source": [
    "# Implimentation of Adjacency List method to represent a graph\n",
    "\n",
    "class Graph:\n",
    "    def __init__(self, nodes):\n",
    "        self.adjacency_list = {}  # creating an empty dictinary\n",
    "        for node in nodes:\n",
    "            self.adjacency_list[node] = []  # {0:[],1:[],2:[],3:[],4:[]}\n",
    "\n",
    "    def add_edge(self, origin, destination):\n",
    "        self.adjacency_list[origin].append(destination)\n",
    "        \n",
    "    def __str__(self): # dunder method\n",
    "        return str(self.adjacency_list)\n",
    "\n",
    "        \n",
    "G_1 = Graph([0, 1, 2, 3, 4])\n",
    "\n",
    "G_1.add_edge(0, 1)\n",
    "G_1.add_edge(0, 2)\n",
    "G_1.add_edge(1, 0)\n",
    "G_1.add_edge(2, 3)\n",
    "G_1.add_edge(3, 2)\n",
    "G_1.add_edge(4, 2)\n",
    "G_1.add_edge(4, 3)\n",
    "\n",
    "print(G_1)"
   ]
  },
  {
   "cell_type": "markdown",
   "metadata": {},
   "source": [
    "### Adjacency Matrix\n",
    "        \n",
    "    There are many different ways to represent a graph\n",
    "    One representation is an adjacency matrix\n",
    "\n",
    "    A list of lists is used to represent the matrix\n",
    "    The nodes in an adjacency matrix are implicitly numbered from 0 to n-1\n",
    "\n",
    "    The element in the adjacency matrix at index [i][j] represents the directed edge from i to j\n",
    "    The element is 1 if the edge exists, 0 otherwise\n",
    "\n",
    "    This adjacency matrix:\n",
    "    adjacency_matrix = [\n",
    "        0  1  2  3  4\n",
    "      0[0, 1, 1, 0, 0],\n",
    "      1[1, 0, 0, 0, 0],\n",
    "      2[0, 0, 0, 1, 0],\n",
    "      3[0, 0, 1, 0, 0],\n",
    "      4[0, 0, 1, 1, 0]\n",
    "    ]\n",
    "\n",
    "    Represents this graph:"
   ]
  },
  {
   "cell_type": "markdown",
   "metadata": {},
   "source": [
    "## Home Work : WAP to represent the above graph using adjacency matrix method. And print your Gaph."
   ]
  },
  {
   "cell_type": "code",
   "execution_count": 16,
   "metadata": {},
   "outputs": [
    {
     "name": "stdout",
     "output_type": "stream",
     "text": [
      "[[0, 1, 1, 0, 0], [1, 0, 0, 0, 0], [0, 0, 0, 1, 0], [0, 0, 1, 0, 0], [0, 0, 1, 1, 0]]\n"
     ]
    }
   ],
   "source": [
    "class Graph:\n",
    "    def __init__(self, nodes):\n",
    "        self.adjacency_matrix = []\n",
    "        for i in range (len(nodes)):\n",
    "            self.adjacency_matrix.append([])\n",
    "            for j in range (len(nodes)):    \n",
    "                self.adjacency_matrix[i].append(0)\n",
    "                \n",
    "    def add_edge(self, s_index, d_index):  # source node index & destination node index\n",
    "        self.adjacency_matrix[s_index][d_index] = 1\n",
    "           \n",
    " \n",
    "\n",
    "\n",
    "G1 = Graph([0,1,2,3,4])\n",
    "#print(G1.adjacency_matrix)\n",
    "\n",
    "G1.add_edge(0, 1)  # this is index values, nodes[0] to nodes[1] there is an edge\n",
    "G1.add_edge(0, 2)\n",
    "G1.add_edge(1, 0)\n",
    "G1.add_edge(2, 3)\n",
    "G1.add_edge(3, 2)\n",
    "G1.add_edge(4, 2)\n",
    "G1.add_edge(4, 3)\n",
    "\n",
    "print(G1.adjacency_matrix)\n"
   ]
  },
  {
   "cell_type": "markdown",
   "metadata": {},
   "source": [
    "# Depth First Traversals\n",
    "    \n",
    "### Introduction\n",
    "\n",
    "    Depth first traversal looks deep into a graph before looking wide\n",
    "    This is easiest to visualize with a binary tree\n",
    "    All tree traversals we've learned so far have been depth first(in-order, pre-order,post-order)"
   ]
  },
  {
   "cell_type": "markdown",
   "metadata": {},
   "source": [
    "    Unlike a binary tree, a graph may have cycles\n",
    "    A traversal, by definition, only visits each node once\n",
    "    It is necessary to keep track of visited nodes to avoid them after the first visit."
   ]
  },
  {
   "cell_type": "code",
   "execution_count": 4,
   "metadata": {
    "hide_input": false
   },
   "outputs": [
    {
     "data": {
      "image/png": "[encoded data removed]",
      "text/plain": [
       "<IPython.core.display.Image object>"
      ]
     },
     "execution_count": 4,
     "metadata": {},
     "output_type": "execute_result"
    }
   ],
   "source": [
    "from IPython.display import Image\n",
    "Image(\"graph_images/binary_tree.png\")"
   ]
  },
  {
   "cell_type": "markdown",
   "metadata": {},
   "source": [
    "# Breadth First Traversal\n",
    "    \n",
    "      \n",
    "    Breadth first traversal looks at a tree level by level\n",
    "\n",
    "    Level 0 is just the starting node\n",
    "    Level 1 is any node that can be reached from the starting node by one edge\n",
    "    Level 2 is any node that can be reached from Level 1 by one edge\n",
    "\n",
    "    Nodes closest to the starting node will be the first ones visited\n",
    "    Nodes furthest from the starting node will be the last ones visited\n",
    "\n",
    "    Just like depth first traversal, it is necessary to keep track of visited nodes\n",
    "    It is also necessary to keep track of the current level and next level"
   ]
  },
  {
   "cell_type": "markdown",
   "metadata": {},
   "source": [
    "Additional Links: https://bradfieldcs.com/algos/graphs/representing-a-graph/#:~:text=a%20particular%20vertex.-,An%20Object%2DOriented%20Approach,each%20vertex%20in%20the%20graph.\n"
   ]
  },
  {
   "cell_type": "markdown",
   "metadata": {},
   "source": [
    "## Graph Traversal/search Implementations:\n",
    "\n",
    "Depth First : https://www.geeksforgeeks.org/python-program-for-depth-first-search-or-dfs-for-a-graph/\n",
    "\n",
    "Breadth First : https://www.geeksforgeeks.org/python-program-for-breadth-first-search-or-bfs-for-a-graph/\n"
   ]
  },
  {
   "cell_type": "markdown",
   "metadata": {},
   "source": [
    "# Home Work\n",
    "\n",
    "## Write a program to create the below graph using adjacent list method & print the Graph created. \n",
    "## Undirected graphs have edges that do not have a direction. The edges indicate a two-way relationship, in that each edge can be traversed in both directions."
   ]
  },
  {
   "cell_type": "code",
   "execution_count": 2,
   "metadata": {},
   "outputs": [
    {
     "data": {
      "image/jpeg": "[encoded data removed]",
      "text/plain": [
       "<IPython.core.display.Image object>"
      ]
     },
     "execution_count": 2,
     "metadata": {},
     "output_type": "execute_result"
    }
   ],
   "source": [
    "from IPython.display import Image\n",
    "Image(\"graph_images/graph_abcde.jpeg\")"
   ]
  }
 ],
 "metadata": {
  "hide_input": false,
  "kernelspec": {
   "display_name": "Python 3 (ipykernel)",
   "language": "python",
   "name": "python3"
  },
  "language_info": {
   "codemirror_mode": {
    "name": "ipython",
    "version": 3
   },
   "file_extension": ".py",
   "mimetype": "text/x-python",
   "name": "python",
   "nbconvert_exporter": "python",
   "pygments_lexer": "ipython3",
   "version": "3.10.0"
  }
 },
 "nbformat": 4,
 "nbformat_minor": 4
}
