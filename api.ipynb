{
 "cells": [
  {
   "cell_type": "markdown",
   "metadata": {},
   "source": [
    "# What is HTTP?\n",
    "\n",
    "### WWW is about communication between web clients and web servers\n",
    "\n",
    "### Communication between client computers and web servers is done by sending HTTP Requests and receiving HTTP Responses\n",
    "\n",
    "### HTTP stands for Hyper Text Transfer Protocol ,used to communicate between web\n",
    "\n",
    "### browsers and web servers\n",
    "\n",
    "Clients are often browsers (Chrome, Edge, Safari), but they can be any type of program or device.\n",
    "\n",
    "Servers are most often computers in the cloud.\n",
    "\n",
    "Communication between clients and servers is done by requests and responses"
   ]
  },
  {
   "cell_type": "markdown",
   "metadata": {},
   "source": [
    "## requests module in python"
   ]
  },
  {
   "cell_type": "markdown",
   "metadata": {},
   "source": [
    "### The requests module allows you to send HTTP requests using Python. The HTTP request returns a Response Object with all the response data (content, encoding, status, etc).\n",
    "\n",
    "### The requests library isn’t part of the standard Python library, so you’ll need to install it to get started.\n",
    "\n",
    "### pip install requests"
   ]
  },
  {
   "cell_type": "code",
   "execution_count": 2,
   "metadata": {},
   "outputs": [],
   "source": [
    "import requests"
   ]
  },
  {
   "cell_type": "markdown",
   "metadata": {},
   "source": [
    "## GET - method is used when you want to retrieve some data from the server\n",
    "\n",
    "GET: requests data from a server. This is the most common type of request. Using it we can get the data we are interested in from those that the API is ready to share.\n",
    "\n",
    "POST: adds new data to the server. Using this type of request, you can, for example, add a new contact to CRM.\n",
    "\n",
    "PUT: changes existing information. For example, using this type of request, it would be possible to change the color or value of an existing product.\n",
    "\n",
    "DELETE: deletes existing information\n",
    "\n",
    "https://www.w3schools.com/python/module_requests.asp \n",
    "\n",
    "https://www.geeksforgeeks.org/response-methods-python-requests/"
   ]
  },
  {
   "cell_type": "markdown",
   "metadata": {},
   "source": [
    "## SYNTAX : requests.get(url, params={key: value}, args)\n",
    "    ## url    : Required. The url of the request\n",
    "    ## params : Optional. A dictionary, list of tuples or bytes to send as a query string.\n",
    "                 Default None \n",
    "    ## args   : See https://www.w3schools.com/python/ref_requests_get.asp to know about the arguments that can be send to request.get()\n",
    "            "
   ]
  },
  {
   "cell_type": "code",
   "execution_count": 7,
   "metadata": {},
   "outputs": [
    {
     "name": "stdout",
     "output_type": "stream",
     "text": [
      "<Response [200]>\n",
      "<class 'requests.models.Response'>\n",
      "response.status =  200\n",
      "response.text =  <!DOCTYPE html>\n",
      "<html>\n",
      "<body>\n",
      "\n",
      "<h1>This is a Test Page</h1>\n",
      "\n",
      "</body>\n",
      "</html>\n",
      "response.url =  https://www.w3schools.com:443/python/demopage.htm\n",
      "status:  200\n",
      "reason:  OK\n",
      "request object:  <PreparedRequest [GET]>\n",
      "content : <!doctype html><html itemscope=\"\" itemtype=\"http://schema.org/WebPage\" lang=\"en-IN\"><head><meta content=\"text/html; charset=UTF-8\" http-equiv=\"Content-Type\"><meta content=\"/images/branding/googleg/1x/googleg_standard_color_128dp.png\" itemprop=\"image\"><title>Google</title><script nonce=\"7-x6MpGwaiW84f9b0fcGfA\">(function(){window.google={kEI:'_IBSZICSFMfs2roPvt2duAY',kEXPI:'0,18167,1285289,55953,1710,4348,207,2414,2390,2316,383,246,5,1129120,1197706,303256,77528,16115,28684,22431,1361,12317,17582,4998,13228,3847,36218,2226,2872,2891,12360,50058,10632,6397,9359,3,346,230,1014,1,16916,2652,4,1528,2304,29062,13063,13660,4437,16786,5830,2527,4094,7596,1,14263,27891,2,14022,2715,23024,5679,1020,31122,4568,6256,23421,1252,5835,12141,2827,4332,8,7476,445,2,2,1,6959,17667,2006,8155,7381,2,1399,14569,873,19633,9,1920,4078,5701,12414,8226,2259,13255,6305,2007,18191,928,5122,14087,14,82,13333,6873,4069,4308,408,3379,15201,2277,3098,2266,96,668,6110,3226,6480,1804,5221,2513,2738,493,2391,152,2343,217,6065,704,446,3809,6005,3132,581,3709,1407,2129,2365,2296,296,2946,1393,1164,2,2148,892,2524,1051,1443,585,543,3148,4623,859,666,4,411,35,1967,749,1243,1364,3051,163,92,118,203,1978,2506,319,3,1074,2,295,731,915,1918,821,169,527,245,197,153,249,112,419,253,369,227,2012,841,739,276,464,866,95,37,8,209,186,202,567,680,308,154,372,432,196,474,2,101,2,14,47,166,3,319,120,138,5208380,190,2,21,49,197,273,86,5995045,2803242,3311,141,795,19735,1,1,346,5078,3,59,1,66,189,7,4,17,3,33,21,9,4,4,2,2,8,84,30,103,23944758,396,182,4041564,1964,1007,15665,2894,6250,15740,179,2194,1412683,146986,23612966,85,93,134,816,57,69,460,166,2,440,87,60,125,790,49,33,84,260,179,244,251,2,209,2,158,1415,168,365,331,2,344,481,7,564,668,584,400,4,400,92,138,69,477,116,690,54,96,350,280,267,1756,907',kBL:'vPqg',kOPI:89978449};google.sn='webhp';google.kHL='en-IN';})();(function(){\n",
      "var h=this||self;function l(){return void 0!==window.google&&void 0!==window.google.kOPI&&0!==window.google.kOPI?window.google.kOPI:null};var m,n=[];function p(a){for(var b;a&&(!a.getAttribute||!(b=a.getAttribute(\"eid\")));)a=a.parentNode;return b||m}function q(a){for(var b=null;a&&(!a.getAttribute||!(b=a.getAttribute(\"leid\")));)a=a.parentNode;return b}function r(a){/^http:/i.test(a)&&\"https:\"===window.location.protocol&&(google.ml&&google.ml(Error(\"a\"),!1,{src:a,glmm:1}),a=\"\");return a}\n",
      "function t(a,b,c,d,k){var e=\"\";-1===b.search(\"&ei=\")&&(e=\"&ei=\"+p(d),-1===b.search(\"&lei=\")&&(d=q(d))&&(e+=\"&lei=\"+d));d=\"\";var g=-1===b.search(\"&cshid=\")&&\"slh\"!==a,f=[];f.push([\"zx\",Date.now().toString()]);h._cshid&&g&&f.push([\"cshid\",h._cshid]);c=c();null!=c&&f.push([\"opi\",c.toString()]);for(c=0;c<f.length;c++){if(0===c||0<c)d+=\"&\";d+=f[c][0]+\"=\"+f[c][1]}return\"/\"+(k||\"gen_204\")+\"?atyp=i&ct=\"+String(a)+\"&cad=\"+(b+e+d)};m=google.kEI;google.getEI=p;google.getLEI=q;google.ml=function(){return null};google.log=function(a,b,c,d,k,e){e=void 0===e?l:e;c||(c=t(a,b,e,d,k));if(c=r(c)){a=new Image;var g=n.length;n[g]=a;a.onerror=a.onload=a.onabort=function(){delete n[g]};a.src=c}};google.logUrl=function(a,b){b=void 0===b?l:b;return t(\"\",a,b)};}).call(this);(function(){google.y={};google.sy=[];google.x=function(a,b){if(a)var c=a.id;else{do c=Math.random();while(google.y[c])}google.y[c]=[a,b];return!1};google.sx=function(a){google.sy.push(a)};google.lm=[];google.plm=function(a){google.lm.push.apply(google.lm,a)};google.lq=[];google.load=function(a,b,c){google.lq.push([[a],b,c])};google.loadAll=function(a,b){google.lq.push([a,b])};google.bx=!1;google.lx=function(){};}).call(this);google.f={};(function(){\n",
      "document.documentElement.addEventListener(\"submit\",function(b){var a;if(a=b.target){var c=a.getAttribute(\"data-submitfalse\");a=\"1\"===c||\"q\"===c&&!a.elements.q.value?!0:!1}else a=!1;a&&(b.preventDefault(),b.stopPropagation())},!0);document.documentElement.addEventListener(\"click\",function(b){var a;a:{for(a=b.target;a&&a!==document.documentElement;a=a.parentElement)if(\"A\"===a.tagName){a=\"1\"===a.getAttribute(\"data-nohref\");break a}a=!1}a&&b.preventDefault()},!0);}).call(this);</script><style>#gbar,#guser{font-size:13px;padding-top:1px !important;}#gbar{height:22px}#guser{padding-bottom:7px !important;text-align:right}.gbh,.gbd{border-top:1px solid #c9d7f1;font-size:1px}.gbh{height:0;position:absolute;top:24px;width:100%}@media all{.gb1{height:22px;margin-right:.5em;vertical-align:top}#gbar{float:left}}a.gb1,a.gb4{text-decoration:underline !important}a.gb1,a.gb4{color:#00c !important}.gbi .gb4{color:#dd8e27 !important}.gbf .gb4{color:#900 !important}\n",
      "</style><style>body,td,a,p,.h{font-family:arial,sans-serif}body{margin:0;overflow-y:scroll}#gog{padding:3px 8px 0}td{line-height:.8em}.gac_m td{line-height:17px}form{margin-bottom:20px}.h{color:#1558d6}em{font-weight:bold;font-style:normal}.lst{height:25px;width:496px}.gsfi,.lst{font:18px arial,sans-serif}.gsfs{font:17px arial,sans-serif}.ds{display:inline-box;display:inline-block;margin:3px 0 4px;margin-left:4px}input{font-family:inherit}body{background:#fff;color:#000}a{color:#4b11a8;text-decoration:none}a:hover,a:active{text-decoration:underline}.fl a{color:#1558d6}a:visited{color:#4b11a8}.sblc{padding-top:5px}.sblc a{display:block;margin:2px 0;margin-left:13px;font-size:11px}.lsbb{background:#f8f9fa;border:solid 1px;border-color:#dadce0 #70757a #70757a #dadce0;height:30px}.lsbb{display:block}#WqQANb a{display:inline-block;margin:0 12px}.lsb{background:url(/images/nav_logo229.png) 0 -261px repeat-x;border:none;color:#000;cursor:pointer;height:30px;margin:0;outline:0;font:15px arial,sans-serif;vertical-align:top}.lsb:active{background:#dadce0}.lst:focus{outline:none}</style><script nonce=\"7-x6MpGwaiW84f9b0fcGfA\">(function(){window.google.erd={jsr:1,bv:1786,de:true};\n",
      "var h=this||self;var k,l=null!=(k=h.mei)?k:1,n,p=null!=(n=h.sdo)?n:!0,q=0,r,t=google.erd,v=t.jsr;google.ml=function(a,b,d,m,e){e=void 0===e?2:e;b&&(r=a&&a.message);if(google.dl)return google.dl(a,e,d),null;if(0>v){window.console&&console.error(a,d);if(-2===v)throw a;b=!1}else b=!a||!a.message||\"Error loading script\"===a.message||q>=l&&!m?!1:!0;if(!b)return null;q++;d=d||{};b=encodeURIComponent;var c=\"/gen_204?atyp=i&ei=\"+b(google.kEI);google.kEXPI&&(c+=\"&jexpid=\"+b(google.kEXPI));c+=\"&srcpg=\"+b(google.sn)+\"&jsr=\"+b(t.jsr)+\"&bver=\"+b(t.bv);var f=a.lineNumber;void 0!==f&&(c+=\"&line=\"+f);var g=\n",
      "a.fileName;g&&(0<g.indexOf(\"-extension:/\")&&(e=3),c+=\"&script=\"+b(g),f&&g===window.location.href&&(f=document.documentElement.outerHTML.split(\"\\n\")[f],c+=\"&cad=\"+b(f?f.substring(0,300):\"No script found.\")));c+=\"&jsel=\"+e;for(var u in d)c+=\"&\",c+=b(u),c+=\"=\",c+=b(d[u]);c=c+\"&emsg=\"+b(a.name+\": \"+a.message);c=c+\"&jsst=\"+b(a.stack||\"N/A\");12288<=c.length&&(c=c.substr(0,12288));a=c;m||google.log(0,\"\",a);return a};window.onerror=function(a,b,d,m,e){r!==a&&(a=e instanceof Error?e:Error(a),void 0===d||\"lineNumber\"in a||(a.lineNumber=d),void 0===b||\"fileName\"in a||(a.fileName=b),google.ml(a,!1,void 0,!1,\"SyntaxError\"===a.name||\"SyntaxError\"===a.message.substring(0,11)||-1!==a.message.indexOf(\"Script error\")?3:0));r=null;p&&q>=l&&(window.onerror=null)};})();</script></head><body bgcolor=\"#fff\"><script nonce=\"7-x6MpGwaiW84f9b0fcGfA\">(function(){var src='/images/nav_logo229.png';var iesg=false;document.body.onload = function(){window.n && window.n();if (document.images){new Image().src=src;}\n",
      "if (!iesg){document.f&&document.f.q.focus();document.gbqf&&document.gbqf.q.focus();}\n",
      "}\n",
      "})();</script><div id=\"mngb\"><div id=gbar><nobr><b class=gb1>Search</b> <a class=gb1 href=\"https://www.google.co.in/imghp?hl=en&tab=wi\">Images</a> <a class=gb1 href=\"https://maps.google.co.in/maps?hl=en&tab=wl\">Maps</a> <a class=gb1 href=\"https://play.google.com/?hl=en&tab=w8\">Play</a> <a class=gb1 href=\"https://www.youtube.com/?tab=w1\">YouTube</a> <a class=gb1 href=\"https://news.google.com/?tab=wn\">News</a> <a class=gb1 href=\"https://mail.google.com/mail/?tab=wm\">Gmail</a> <a class=gb1 href=\"https://drive.google.com/?tab=wo\">Drive</a> <a class=gb1 style=\"text-decoration:none\" href=\"https://www.google.co.in/intl/en/about/products?tab=wh\"><u>More</u> &raquo;</a></nobr></div><div id=guser width=100%><nobr><span id=gbn class=gbi></span><span id=gbf class=gbf></span><span id=gbe></span><a href=\"http://www.google.co.in/history/optout?hl=en\" class=gb4>Web History</a> | <a  href=\"/preferences?hl=en\" class=gb4>Settings</a> | <a target=_top id=gb_70 href=\"https://accounts.google.com/ServiceLogin?hl=en&passive=true&continue=https://www.google.com/&ec=GAZAAQ\" class=gb4>Sign in</a></nobr></div><div class=gbh style=left:0></div><div class=gbh style=right:0></div></div><center><br clear=\"all\" id=\"lgpd\"><div id=\"lga\"><img alt=\"Google\" height=\"92\" src=\"/images/branding/googlelogo/1x/googlelogo_white_background_color_272x92dp.png\" style=\"padding:28px 0 14px\" width=\"272\" id=\"hplogo\"><br><br></div><form action=\"/search\" name=\"f\"><table cellpadding=\"0\" cellspacing=\"0\"><tr valign=\"top\"><td width=\"25%\">&nbsp;</td><td align=\"center\" nowrap=\"\"><input name=\"ie\" value=\"ISO-8859-1\" type=\"hidden\"><input value=\"en-IN\" name=\"hl\" type=\"hidden\"><input name=\"source\" type=\"hidden\" value=\"hp\"><input name=\"biw\" type=\"hidden\"><input name=\"bih\" type=\"hidden\"><div class=\"ds\" style=\"height:32px;margin:4px 0\"><input class=\"lst\" style=\"margin:0;padding:5px 8px 0 6px;vertical-align:top;color:#000\" autocomplete=\"off\" value=\"\" title=\"Google Search\" maxlength=\"2048\" name=\"q\" size=\"57\"></div><br style=\"line-height:0\"><span class=\"ds\"><span class=\"lsbb\"><input class=\"lsb\" value=\"Google Search\" name=\"btnG\" type=\"submit\"></span></span><span class=\"ds\"><span class=\"lsbb\"><input class=\"lsb\" id=\"tsuid_1\" value=\"I'm Feeling Lucky\" name=\"btnI\" type=\"submit\"><script nonce=\"7-x6MpGwaiW84f9b0fcGfA\">(function(){var id='tsuid_1';document.getElementById(id).onclick = function(){if (this.form.q.value){this.checked = 1;if (this.form.iflsig)this.form.iflsig.disabled = false;}\n",
      "else top.location='/doodles/';};})();</script><input value=\"AOEireoAAAAAZFKPDPc84T53HLF1V-OCeWdUJTBwa51N\" name=\"iflsig\" type=\"hidden\"></span></span></td><td class=\"fl sblc\" align=\"left\" nowrap=\"\" width=\"25%\"><a href=\"/advanced_search?hl=en-IN&amp;authuser=0\">Advanced search</a></td></tr></table><input id=\"gbv\" name=\"gbv\" type=\"hidden\" value=\"1\"><script nonce=\"7-x6MpGwaiW84f9b0fcGfA\">(function(){var a,b=\"1\";if(document&&document.getElementById)if(\"undefined\"!=typeof XMLHttpRequest)b=\"2\";else if(\"undefined\"!=typeof ActiveXObject){var c,d,e=[\"MSXML2.XMLHTTP.6.0\",\"MSXML2.XMLHTTP.3.0\",\"MSXML2.XMLHTTP\",\"Microsoft.XMLHTTP\"];for(c=0;d=e[c++];)try{new ActiveXObject(d),b=\"2\"}catch(h){}}a=b;if(\"2\"==a&&-1==location.search.indexOf(\"&gbv=2\")){var f=google.gbvu,g=document.getElementById(\"gbv\");g&&(g.value=a);f&&window.setTimeout(function(){location.href=f},0)};}).call(this);</script></form><div id=\"gac_scont\"></div><div style=\"font-size:83%;min-height:3.5em\"><br><div id=\"gws-output-pages-elements-homepage_additional_languages__als\"><style>#gws-output-pages-elements-homepage_additional_languages__als{font-size:small;margin-bottom:24px}#SIvCob{color:#3c4043;display:inline-block;line-height:28px;}#SIvCob a{padding:0 3px;}.H6sW5{display:inline-block;margin:0 2px;white-space:nowrap}.z4hgWe{display:inline-block;margin:0 2px}</style><div id=\"SIvCob\">Google offered in:  <a href=\"https://www.google.com/setprefs?sig=0_FVCXsCobYA7mIH9pfTWLkuOqYW0%3D&amp;hl=hi&amp;source=homepage&amp;sa=X&amp;ved=0ahUKEwiAgKnFvtn-AhVHtlYBHb5uB2cQ2ZgBCAU\">&#2361;&#2367;&#2344;&#2381;&#2342;&#2368;</a>    <a href=\"https://www.google.com/setprefs?sig=0_FVCXsCobYA7mIH9pfTWLkuOqYW0%3D&amp;hl=bn&amp;source=homepage&amp;sa=X&amp;ved=0ahUKEwiAgKnFvtn-AhVHtlYBHb5uB2cQ2ZgBCAY\">&#2476;&#2494;&#2434;&#2482;&#2494;</a>    <a href=\"https://www.google.com/setprefs?sig=0_FVCXsCobYA7mIH9pfTWLkuOqYW0%3D&amp;hl=te&amp;source=homepage&amp;sa=X&amp;ved=0ahUKEwiAgKnFvtn-AhVHtlYBHb5uB2cQ2ZgBCAc\">&#3108;&#3142;&#3122;&#3137;&#3095;&#3137;</a>    <a href=\"https://www.google.com/setprefs?sig=0_FVCXsCobYA7mIH9pfTWLkuOqYW0%3D&amp;hl=mr&amp;source=homepage&amp;sa=X&amp;ved=0ahUKEwiAgKnFvtn-AhVHtlYBHb5uB2cQ2ZgBCAg\">&#2350;&#2352;&#2366;&#2336;&#2368;</a>    <a href=\"https://www.google.com/setprefs?sig=0_FVCXsCobYA7mIH9pfTWLkuOqYW0%3D&amp;hl=ta&amp;source=homepage&amp;sa=X&amp;ved=0ahUKEwiAgKnFvtn-AhVHtlYBHb5uB2cQ2ZgBCAk\">&#2980;&#2990;&#3007;&#2996;&#3021;</a>    <a href=\"https://www.google.com/setprefs?sig=0_FVCXsCobYA7mIH9pfTWLkuOqYW0%3D&amp;hl=gu&amp;source=homepage&amp;sa=X&amp;ved=0ahUKEwiAgKnFvtn-AhVHtlYBHb5uB2cQ2ZgBCAo\">&#2711;&#2753;&#2716;&#2736;&#2750;&#2724;&#2752;</a>    <a href=\"https://www.google.com/setprefs?sig=0_FVCXsCobYA7mIH9pfTWLkuOqYW0%3D&amp;hl=kn&amp;source=homepage&amp;sa=X&amp;ved=0ahUKEwiAgKnFvtn-AhVHtlYBHb5uB2cQ2ZgBCAs\">&#3221;&#3240;&#3277;&#3240;&#3233;</a>    <a href=\"https://www.google.com/setprefs?sig=0_FVCXsCobYA7mIH9pfTWLkuOqYW0%3D&amp;hl=ml&amp;source=homepage&amp;sa=X&amp;ved=0ahUKEwiAgKnFvtn-AhVHtlYBHb5uB2cQ2ZgBCAw\">&#3374;&#3378;&#3375;&#3390;&#3379;&#3330;</a>    <a href=\"https://www.google.com/setprefs?sig=0_FVCXsCobYA7mIH9pfTWLkuOqYW0%3D&amp;hl=pa&amp;source=homepage&amp;sa=X&amp;ved=0ahUKEwiAgKnFvtn-AhVHtlYBHb5uB2cQ2ZgBCA0\">&#2602;&#2672;&#2588;&#2622;&#2604;&#2624;</a>  </div></div></div><span id=\"footer\"><div style=\"font-size:10pt\"><div style=\"margin:19px auto;text-align:center\" id=\"WqQANb\"><a href=\"/intl/en/ads/\">Advertising</a><a href=\"http://www.google.co.in/services/\">Business Solutions</a><a href=\"/intl/en/about.html\">About Google</a><a href=\"https://www.google.com/setprefdomain?prefdom=IN&amp;prev=https://www.google.co.in/&amp;sig=K_pb4njUUbv6xYmm8QTocWFYKFh7s%3D\">Google.co.in</a></div></div><p style=\"font-size:8pt;color:#70757a\">&copy; 2023 - <a href=\"/intl/en/policies/privacy/\">Privacy</a> - <a href=\"/intl/en/policies/terms/\">Terms</a></p></span></center><script nonce=\"7-x6MpGwaiW84f9b0fcGfA\">(function(){window.google.cdo={height:757,width:1440};(function(){var a=window.innerWidth,b=window.innerHeight;if(!a||!b){var c=window.document,d=\"CSS1Compat\"==c.compatMode?c.documentElement:c.body;a=d.clientWidth;b=d.clientHeight}a&&b&&(a!=google.cdo.width||b!=google.cdo.height)&&google.log(\"\",\"\",\"/client_204?&atyp=i&biw=\"+a+\"&bih=\"+b+\"&ei=\"+google.kEI);}).call(this);})();</script> <script nonce=\"7-x6MpGwaiW84f9b0fcGfA\">(function(){google.xjs={ck:'xjs.hp.vUsZk7fd8do.L.X.O',cs:'ACT90oFa8msnI7aicBjCPF7y5fqfAkikHw',excm:[]};})();</script>  <script nonce=\"7-x6MpGwaiW84f9b0fcGfA\">(function(){var u='/xjs/_/js/k\\x3dxjs.hp.en.BeQdzNS9rQI.O/am\\x3dAAAA6AQAUABgAQ/d\\x3d1/ed\\x3d1/rs\\x3dACT90oENB_YHZwP87y01-MjDupKHtiu7jQ/m\\x3dsb_he,d';var amd=0;\n",
      "var e=this||self,f=function(c){return c};var h;var n=function(c,g){this.g=g===l?c:\"\"};n.prototype.toString=function(){return this.g+\"\"};var l={};\n",
      "function p(){var c=u,g=function(){};google.lx=google.stvsc?g:function(){google.timers&&google.timers.load&&google.tick&&google.tick(\"load\",\"xjsls\");var a=document;var b=\"SCRIPT\";\"application/xhtml+xml\"===a.contentType&&(b=b.toLowerCase());b=a.createElement(b);a=null===c?\"null\":void 0===c?\"undefined\":c;if(void 0===h){var d=null;var m=e.trustedTypes;if(m&&m.createPolicy){try{d=m.createPolicy(\"goog#html\",{createHTML:f,createScript:f,createScriptURL:f})}catch(r){e.console&&e.console.error(r.message)}h=\n",
      "d}else h=d}a=(d=h)?d.createScriptURL(a):a;a=new n(a,l);b.src=a instanceof n&&a.constructor===n?a.g:\"type_error:TrustedResourceUrl\";var k,q;(k=(a=null==(q=(k=(b.ownerDocument&&b.ownerDocument.defaultView||window).document).querySelector)?void 0:q.call(k,\"script[nonce]\"))?a.nonce||a.getAttribute(\"nonce\")||\"\":\"\")&&b.setAttribute(\"nonce\",k);document.body.appendChild(b);google.psa=!0;google.lx=g};google.bx||google.lx()};google.xjsu=u;e._F_jsUrl=u;setTimeout(function(){0<amd?google.caft(function(){return p()},amd):p()},0);})();window._ = window._ || {};window._DumpException = _._DumpException = function(e){throw e;};window._s = window._s || {};_s._DumpException = _._DumpException;window._qs = window._qs || {};_qs._DumpException = _._DumpException;function _F_installCss(c){}\n",
      "(function(){google.jl={blt:'none',chnk:0,dw:false,dwu:true,emtn:0,end:0,ico:false,ikb:0,ine:false,injs:'none',injt:0,injth:0,injv2:false,lls:'default',pdt:0,rep:0,snet:true,strt:0,ubm:false,uwp:true};})();(function(){var pmc='{\\x22d\\x22:{},\\x22sb_he\\x22:{\\x22agen\\x22:true,\\x22cgen\\x22:true,\\x22client\\x22:\\x22heirloom-hp\\x22,\\x22dh\\x22:true,\\x22ds\\x22:\\x22\\x22,\\x22fl\\x22:true,\\x22host\\x22:\\x22google.com\\x22,\\x22jsonp\\x22:true,\\x22msgs\\x22:{\\x22cibl\\x22:\\x22Clear Search\\x22,\\x22dym\\x22:\\x22Did you mean:\\x22,\\x22lcky\\x22:\\x22I\\\\u0026#39;m Feeling Lucky\\x22,\\x22lml\\x22:\\x22Learn more\\x22,\\x22psrc\\x22:\\x22This search was removed from your \\\\u003Ca href\\x3d\\\\\\x22/history\\\\\\x22\\\\u003EWeb History\\\\u003C/a\\\\u003E\\x22,\\x22psrl\\x22:\\x22Remove\\x22,\\x22sbit\\x22:\\x22Search by image\\x22,\\x22srch\\x22:\\x22Google Search\\x22},\\x22ovr\\x22:{},\\x22pq\\x22:\\x22\\x22,\\x22rfs\\x22:[],\\x22sbas\\x22:\\x220 3px 8px 0 rgba(0,0,0,0.2),0 0 0 1px rgba(0,0,0,0.08)\\x22,\\x22stok\\x22:\\x22Xpe8DUMmTemNB5oN6Ylb0BiiN68\\x22}}';google.pmc=JSON.parse(pmc);})();</script>       </body></html>\n",
      "url:  https://www.google.com/\n"
     ]
    }
   ],
   "source": [
    "import requests\n",
    "\n",
    "#The required first parameter of the 'get' method is the 'url' and it returns the response object\n",
    "\n",
    "response = requests.get('https://w3schools.com/python/demopage.htm')\n",
    "\n",
    "print(response)\n",
    "print(type(response))\n",
    "\n",
    "print(\"response.status = \",response.status_code)\n",
    "print(\"response.text = \",response.text)\n",
    "print(\"response.url = \",response.url)\n",
    "\n",
    "response = requests.get('https://www.google.com')\n",
    "\n",
    "#Returns a number that indicates the status (200 is OK, 404 is Not Found)\n",
    "print(\"status: \",response.status_code)\n",
    "\n",
    "#Returns a text corresponding to the status code\n",
    "print(\"reason: \",response.reason)\n",
    "\n",
    "#Returns the request object that requested this response\n",
    "print(\"request object: \",response.request)\n",
    "\n",
    "#print the response text (the content of the requested file)\n",
    "print(\"content :\",response.text)  # Returns the content of the response, in unicode\n",
    "\n",
    "print(\"url: \",response.url)\n"
   ]
  },
  {
   "cell_type": "markdown",
   "metadata": {},
   "source": [
    "Reference : https://www.w3schools.com/python/ref_requests_response.asp "
   ]
  },
  {
   "cell_type": "markdown",
   "metadata": {},
   "source": [
    "### What is an API? API requests ?\n",
    "    An API, or Application Programming Interface, is a server that you can use to retrieve and send data to using     code.\n",
    "    APIs are most commonly used to retrieve data.\n",
    "    \n",
    "    When we want to receive data from an API, we need to make a get request.\n",
    "    Requests are used all over the web. For instance, when you visit a website,\n",
    "    your web browser made a request to that websites web server, which responds with the content of the web page.\n",
    "    \n",
    "    API requests work in exactly the same way – you make a request to an API server/url mostly a json data file in web, for data,and it responds to your request.\n",
    "    \n",
    "   \n",
    "    APIs act like building blocks, and allow you to create applications much faster. It is more efficient and convenient to use the capabilities of one of the APIs than to try to independently implement similar functionality. eg: you can use a weather API request to the respective API end point & display live weather info. on your web site, without doing it from scratch.\n"
   ]
  },
  {
   "cell_type": "markdown",
   "metadata": {},
   "source": [
    "#### Making API Requests in Python\n",
    "\n",
    "    In order to work with APIs in Python, we need tools that will make those requests.\n",
    "    In Python, the most common library for making requests and working with APIs is the requests library.\n",
    "    The requests library isn’t part of the standard Python library, so you’ll need to install it to get started.\n",
    "    \n",
    "    pip install requests"
   ]
  },
  {
   "cell_type": "code",
   "execution_count": 2,
   "metadata": {},
   "outputs": [
    {
     "name": "stdout",
     "output_type": "stream",
     "text": [
      "STATUS:  200 OK\n",
      "Type of content :  <class 'str'>\n",
      "Response Content\n",
      "----------------------\n",
      "\n",
      "{\"success\":true,\"body\":[{\"_id\":\"60dd374b5e265bda1ea7a22e\",\"setup\":\"What did the father printer say to the teenage printer?\",\"punchline\":\"Don't use that toner with me.\",\"type\":\"printer\",\"likes\":[],\"author\":{\"name\":\"unknown\",\"id\":null},\"approved\":true,\"date\":1618108661,\"NSFW\":false,\"shareableLink\":\"https://dadjokes.io/joke/60dd374b5e265bda1ea7a22e\"}]}\n",
      "Type of joke_dictionary : <class 'dict'>\n",
      "\n",
      "JOKE OF THE DAY\n",
      "\n",
      "*********************************\n",
      "What did the father printer say to the teenage printer?\n",
      "Don't use that toner with me.\n",
      "*********************************\n"
     ]
    }
   ],
   "source": [
    "import requests\n",
    "import json\n",
    "\n",
    "url = \"https://dad-jokes.p.rapidapi.com/random/joke\"\n",
    "\n",
    "headers = {\n",
    "      \"X-RapidAPI-Key\": \"0c06aab86cmsh0e1c3e3caddcd37p1b9c2fjsn6d6cdd38c5ec\",\n",
    "      \"X-RapidAPI-Host\": \"dad-jokes.p.rapidapi.com\"\n",
    "}\n",
    "\n",
    "response = requests.request(\"GET\", url, headers=headers)\n",
    "\n",
    "print(\"STATUS: \",response.status_code,response.reason)\n",
    "\n",
    "print(\"Type of content : \",type(response.text))\n",
    "\n",
    "print(\"Response Content\\n----------------------\\n\")\n",
    "\n",
    "print(response.text)\n",
    "\n",
    "joke_dictionary = json.loads(response.text)\n",
    "\n",
    "print(\"Type of joke_dictionary :\",type(joke_dictionary))\n",
    "\n",
    "print (\"\\nJOKE OF THE DAY\\n\")\n",
    "\n",
    "print(\"*********************************\")\n",
    "print(joke_dictionary[\"body\"][0][\"setup\"])\n",
    "print(joke_dictionary[\"body\"][0][\"punchline\"])\n",
    "print(\"*********************************\")\n"
   ]
  },
  {
   "cell_type": "code",
   "execution_count": 3,
   "metadata": {},
   "outputs": [
    {
     "name": "stdout",
     "output_type": "stream",
     "text": [
      "<class 'requests.models.Response'>\n",
      "<Response [200]>\n",
      "<class 'dict'>\n",
      "{'success': True, 'body': [{'_id': '60dd35ded0e0eda7b19b6ea4', 'setup': 'I quit drugs to concentrate on rock climbing', 'punchline': '\"nice... what’s the highest you\\'ve been?\"I tried to kiss a goldfish.', 'type': 'climb', 'likes': [], 'author': {'name': 'unknown', 'id': None}, 'approved': True, 'date': 1618108661, 'NSFW': False, 'shareableLink': 'https://dadjokes.io/joke/60dd35ded0e0eda7b19b6ea4'}]}\n",
      "dict_keys(['success', 'body'])\n",
      "The joke\n",
      "-----------\n",
      "I quit drugs to concentrate on rock climbing\n",
      "\"nice... what’s the highest you've been?\"I tried to kiss a goldfish.\n"
     ]
    }
   ],
   "source": [
    "import requests\n",
    "\n",
    "url = \"https://dad-jokes.p.rapidapi.com/random/joke\"\n",
    "\n",
    "headers = {\n",
    "    \"X-RapidAPI-Key\": \"0c06aab86cmsh0e1c3e3caddcd37p1b9c2fjsn6d6cdd38c5ec\",\n",
    "    \"X-RapidAPI-Host\": \"dad-jokes.p.rapidapi.com\"\n",
    "}\n",
    "\n",
    "response = requests.get(url, headers=headers)\n",
    "\n",
    "print(type(response))\n",
    "print(response)\n",
    "response_dict = response.json() # using json() method of response object you are converting the json response to a dictionary\n",
    "print(type(response_dict))\n",
    "print(response_dict)\n",
    "\n",
    "print(response_dict.keys())\n",
    "\n",
    "print(\"The joke\")\n",
    "print(\"-----------\")\n",
    "print(response_dict['body'][0]['setup'])\n",
    "print(response_dict['body'][0]['punchline'])"
   ]
  },
  {
   "cell_type": "markdown",
   "metadata": {},
   "source": [
    "### Making Our First API Request\n",
    "\n",
    "    There are many different types of requests. The most commonly used one, a GET request, is used to retrieve data.\n",
    "    Because we’ll just be working with retrieving data, our focus will be on making ‘get’ requests.\n",
    "\n",
    "    When we make a request, the response from the API comes with a response code which tells us whether\n",
    "    our request was successful.\n",
    "    Response codes are important because they immediately tell us if something went wrong.\n",
    "    \n",
    "   Response codes Link: https://www.tutorialspoint.com/http/http_status_codes.htm\n",
    "   \n",
    "   \n",
    "    Having dealt with the basics of the API, let’s go a little further, namely, let’s deal with Request Methods, using which we can communicate with the API.\n",
    "\n",
    "    Without getting into too much detail, Request Methods characterize what action we are going to take by referring to the API. In total, there are four main types of actions:\n",
    "\n",
    "    GET: requests data from a server. This is the most common type of request. Using it we can get the data we are interested in from those that the API is ready to share.\n",
    "    \n",
    "    POST: adds new data to the server. Using this type of request, you can, for example, add a new contact to CRM.\n",
    "    \n",
    "    PUT: changes existing information. For example, using this type of request, it would be possible to change the color or value of an existing product.\n",
    "    \n",
    "    DELETE: deletes existing information\n",
    "\n",
    "\n",
    "### API Documentation\n",
    "    In order to ensure we make a succesful request, when we work with APIs it’s important to consult\n",
    "    the documentation.\n",
    "    We’ll be working with the Open Notify API, which gives access to data about the international space station.\n",
    "    It’s a great API for learning because it has a very simple design, and doesn’t require authentication.\n",
    "    \n",
    "    https://rapidapi.com/collection/list-of-free-apis\n",
    "   \n",
    "### Website: http://open-notify.org/\n",
    "    Often there will be multiple APIs available on a particular server.\n",
    "    Each of these APIs are commonly called endpoints.\n",
    "    The first endpoint we’ll use is http://api.open-notify.org/astros.json, \n",
    "    which returns data about astronauts currently in space."
   ]
  },
  {
   "cell_type": "code",
   "execution_count": 4,
   "metadata": {},
   "outputs": [],
   "source": [
    "import requests\n",
    "import json \n",
    "\n",
    "api_endpoint = \"http://api.open-notify.org/astros.json\"\n",
    "\n",
    "response = requests.get(url=api_endpoint) # get the ack from the end point "
   ]
  },
  {
   "cell_type": "code",
   "execution_count": 5,
   "metadata": {},
   "outputs": [
    {
     "name": "stdout",
     "output_type": "stream",
     "text": [
      "<Response [200]>\n"
     ]
    }
   ],
   "source": [
    "print(response)"
   ]
  },
  {
   "cell_type": "code",
   "execution_count": 6,
   "metadata": {},
   "outputs": [
    {
     "name": "stdout",
     "output_type": "stream",
     "text": [
      "{\"message\": \"success\", \"number\": 10, \"people\": [{\"craft\": \"ISS\", \"name\": \"Sergey Prokopyev\"}, {\"craft\": \"ISS\", \"name\": \"Dmitry Petelin\"}, {\"craft\": \"ISS\", \"name\": \"Frank Rubio\"}, {\"craft\": \"Shenzhou 15\", \"name\": \"Fei Junlong\"}, {\"craft\": \"Shenzhou 15\", \"name\": \"Deng Qingming\"}, {\"craft\": \"Shenzhou 15\", \"name\": \"Zhang Lu\"}, {\"craft\": \"ISS\", \"name\": \"Stephen Bowen\"}, {\"craft\": \"ISS\", \"name\": \"Warren Hoburg\"}, {\"craft\": \"ISS\", \"name\": \"Sultan Alneyadi\"}, {\"craft\": \"ISS\", \"name\": \"Andrey Fedyaev\"}]}\n",
      "<class 'str'>\n"
     ]
    }
   ],
   "source": [
    "print(response.text)\n",
    "print(type(response.text))"
   ]
  },
  {
   "cell_type": "code",
   "execution_count": 7,
   "metadata": {},
   "outputs": [
    {
     "name": "stdout",
     "output_type": "stream",
     "text": [
      "<class 'dict'>\n"
     ]
    }
   ],
   "source": [
    "data_dictionary=json.loads(response.text) # converting json type to mutable dict type \n",
    "print(type(data_dictionary))"
   ]
  },
  {
   "cell_type": "code",
   "execution_count": 8,
   "metadata": {},
   "outputs": [
    {
     "name": "stdout",
     "output_type": "stream",
     "text": [
      "{'message': 'success', 'number': 10, 'people': [{'craft': 'ISS', 'name': 'Sergey Prokopyev'}, {'craft': 'ISS', 'name': 'Dmitry Petelin'}, {'craft': 'ISS', 'name': 'Frank Rubio'}, {'craft': 'Shenzhou 15', 'name': 'Fei Junlong'}, {'craft': 'Shenzhou 15', 'name': 'Deng Qingming'}, {'craft': 'Shenzhou 15', 'name': 'Zhang Lu'}, {'craft': 'ISS', 'name': 'Stephen Bowen'}, {'craft': 'ISS', 'name': 'Warren Hoburg'}, {'craft': 'ISS', 'name': 'Sultan Alneyadi'}, {'craft': 'ISS', 'name': 'Andrey Fedyaev'}]}\n"
     ]
    }
   ],
   "source": [
    "print(data_dictionary)"
   ]
  },
  {
   "cell_type": "code",
   "execution_count": 9,
   "metadata": {},
   "outputs": [
    {
     "name": "stdout",
     "output_type": "stream",
     "text": [
      "<class 'dict'>\n",
      "{'message': 'success', 'number': 10, 'people': [{'craft': 'ISS', 'name': 'Sergey Prokopyev'}, {'craft': 'ISS', 'name': 'Dmitry Petelin'}, {'craft': 'ISS', 'name': 'Frank Rubio'}, {'craft': 'Shenzhou 15', 'name': 'Fei Junlong'}, {'craft': 'Shenzhou 15', 'name': 'Deng Qingming'}, {'craft': 'Shenzhou 15', 'name': 'Zhang Lu'}, {'craft': 'ISS', 'name': 'Stephen Bowen'}, {'craft': 'ISS', 'name': 'Warren Hoburg'}, {'craft': 'ISS', 'name': 'Sultan Alneyadi'}, {'craft': 'ISS', 'name': 'Andrey Fedyaev'}]}\n"
     ]
    }
   ],
   "source": [
    "# getting the data in the form of a dict\n",
    "\n",
    "# alternative syntax to line 43\n",
    "data_dict = response.json() # this .json() is part of the request object and converts the json to  dict type \n",
    "print(type(data_dict))\n",
    "\n",
    "print(data_dict)\n"
   ]
  },
  {
   "cell_type": "code",
   "execution_count": 10,
   "metadata": {},
   "outputs": [
    {
     "data": {
      "text/plain": [
       "dict_keys(['message', 'number', 'people'])"
      ]
     },
     "execution_count": 10,
     "metadata": {},
     "output_type": "execute_result"
    }
   ],
   "source": [
    "data_dict.keys()"
   ]
  },
  {
   "cell_type": "code",
   "execution_count": 13,
   "metadata": {},
   "outputs": [],
   "source": [
    "names=[name['name'] for name in data_dict['people']] # list comprehensions \n",
    "crafts=[craft['craft'] for craft in data_dict['people']]"
   ]
  },
  {
   "cell_type": "code",
   "execution_count": 14,
   "metadata": {},
   "outputs": [
    {
     "name": "stdout",
     "output_type": "stream",
     "text": [
      "['Sergey Prokopyev', 'Dmitry Petelin', 'Frank Rubio', 'Fei Junlong', 'Deng Qingming', 'Zhang Lu', 'Stephen Bowen', 'Warren Hoburg', 'Sultan Alneyadi', 'Andrey Fedyaev']\n"
     ]
    }
   ],
   "source": [
    "print(names) "
   ]
  },
  {
   "cell_type": "code",
   "execution_count": 15,
   "metadata": {},
   "outputs": [
    {
     "name": "stdout",
     "output_type": "stream",
     "text": [
      "['ISS', 'ISS', 'ISS', 'Shenzhou 15', 'Shenzhou 15', 'Shenzhou 15', 'ISS', 'ISS', 'ISS', 'ISS']\n"
     ]
    }
   ],
   "source": [
    "print(crafts)"
   ]
  },
  {
   "cell_type": "code",
   "execution_count": 12,
   "metadata": {},
   "outputs": [
    {
     "name": "stdout",
     "output_type": "stream",
     "text": [
      "['Sergey Prokopyev', 'Dmitry Petelin', 'Frank Rubio', 'Fei Junlong', 'Deng Qingming', 'Zhang Lu', 'Stephen Bowen', 'Warren Hoburg', 'Sultan Alneyadi', 'Andrey Fedyaev']\n",
      "Frank Rubio\n",
      "Fei Junlong\n"
     ]
    }
   ],
   "source": [
    "# logic to return peoples name having their last names start with M \n",
    "names = []\n",
    "for people in data_dict[\"people\"]:\n",
    "    name = people['name']\n",
    "    names.append(name)\n",
    "print(names)    \n",
    "\n",
    "# print all the names starting with F\n",
    "\n",
    "for n in names:\n",
    "    if n.startswith(\"F\"):\n",
    "        print(n)"
   ]
  },
  {
   "cell_type": "markdown",
   "metadata": {},
   "source": [
    "## Another Example\n",
    "    The API endpoint that we used above does not take any parameters but it is very common to have an API endpoint\n",
    "    that requires us to specify parameters.\n",
    "    An example of this is http://api.open-notify.org/iss-now.json endpoint.\n",
    "    This endpoint tells us the next times that the international space station will pass over a given location on the earth\n",
    "   \n",
    "    If we look at the documentation, it specifies required lat (latitude) and long (longitude) parameters.\n",
    "    \n",
    "    We can do this by adding an optional keyword argument, params, to our request.\n",
    "    We can make a dictionary with these parameters, and then pass them into the requests.get function.\n",
    "    \n",
    "   API End Point: http://api.open-notify.org/iss-now.json\n",
    "   "
   ]
  },
  {
   "cell_type": "code",
   "execution_count": 17,
   "metadata": {},
   "outputs": [
    {
     "name": "stdout",
     "output_type": "stream",
     "text": [
      "http://api.open-notify.org/iss-now.json\n",
      "{'timestamp': 1683210394, 'iss_position': {'latitude': '-20.7267', 'longitude': '88.2407'}, 'message': 'success'}\n",
      "<class 'dict'>\n"
     ]
    }
   ],
   "source": [
    "# Current ISS location over Earth (latitude/longitude)\n",
    "\n",
    "url = \"http://api.open-notify.org/iss-now.json\"\n",
    "\n",
    "'''It’s almost always preferable to setup the parameters as a dictionary, \n",
    "because requests takes care of some things that come up, like properly formatting the query parameters,\n",
    "and we don’t need to worry about inserting the values into the URL string.'''\n",
    "\n",
    "response = requests.get(url=url)\n",
    "# print(response.json()) # convert text to json \n",
    "print(response.url)\n",
    "data_dict=response.json() # converts json text to python dict # Similar to json.loads() \n",
    "print(data_dict)\n",
    "print(type(data_dict))"
   ]
  },
  {
   "cell_type": "code",
   "execution_count": 18,
   "metadata": {},
   "outputs": [
    {
     "data": {
      "text/plain": [
       "dict_keys(['timestamp', 'iss_position', 'message'])"
      ]
     },
     "execution_count": 18,
     "metadata": {},
     "output_type": "execute_result"
    }
   ],
   "source": [
    "data_dict.keys()"
   ]
  },
  {
   "cell_type": "code",
   "execution_count": 19,
   "metadata": {},
   "outputs": [
    {
     "name": "stdout",
     "output_type": "stream",
     "text": [
      "success\n"
     ]
    }
   ],
   "source": [
    "print(data_dict['message'])"
   ]
  },
  {
   "cell_type": "code",
   "execution_count": 20,
   "metadata": {},
   "outputs": [
    {
     "name": "stdout",
     "output_type": "stream",
     "text": [
      "1683210365\n"
     ]
    }
   ],
   "source": [
    "print(data_dict['timestamp'])"
   ]
  },
  {
   "cell_type": "code",
   "execution_count": 22,
   "metadata": {},
   "outputs": [
    {
     "name": "stdout",
     "output_type": "stream",
     "text": [
      "{'latitude': '-20.7267', 'longitude': '88.2407'}\n"
     ]
    }
   ],
   "source": [
    "print(data_dict['iss_position'])"
   ]
  },
  {
   "cell_type": "code",
   "execution_count": 24,
   "metadata": {},
   "outputs": [
    {
     "name": "stdout",
     "output_type": "stream",
     "text": [
      "Timestamp :  1683210394\n",
      "2023-05-04 19:56:34\n"
     ]
    }
   ],
   "source": [
    "#The fromtimestamp() function is used to return the date corresponding to a specified timestamp,\n",
    "\n",
    "# Example Code for fromtimestamp()\n",
    "\n",
    "from datetime import datetime\n",
    "  \n",
    "# Initializing a timestamp value\n",
    "Timestamp = data_dict['timestamp']\n",
    "\n",
    "print(\"Timestamp : \",Timestamp)\n",
    "  \n",
    "# Calling the fromtimestamp() function\n",
    "datetime_From_Timestamp = datetime.fromtimestamp(Timestamp);\n",
    "\n",
    "print(datetime_From_Timestamp)"
   ]
  },
  {
   "cell_type": "code",
   "execution_count": 25,
   "metadata": {},
   "outputs": [],
   "source": [
    "url=\"http://api.open-notify.org/iss-now.json\"\n",
    "get_currentLocation=requests.get(url=url)\n",
    "# print(get_currentLocation.status_code) # sort of like a ping \n"
   ]
  },
  {
   "cell_type": "code",
   "execution_count": 26,
   "metadata": {},
   "outputs": [
    {
     "data": {
      "text/plain": [
       "200"
      ]
     },
     "execution_count": 26,
     "metadata": {},
     "output_type": "execute_result"
    }
   ],
   "source": [
    "get_currentLocation.status_code"
   ]
  },
  {
   "cell_type": "code",
   "execution_count": 27,
   "metadata": {},
   "outputs": [
    {
     "data": {
      "text/plain": [
       "'{\"timestamp\": 1683210643, \"iss_position\": {\"latitude\": \"-8.4048\", \"longitude\": \"97.9062\"}, \"message\": \"success\"}'"
      ]
     },
     "execution_count": 27,
     "metadata": {},
     "output_type": "execute_result"
    }
   ],
   "source": [
    "get_currentLocation.text"
   ]
  },
  {
   "cell_type": "code",
   "execution_count": 28,
   "metadata": {},
   "outputs": [],
   "source": [
    "data=get_currentLocation.json() # this converts json to python dict "
   ]
  },
  {
   "cell_type": "code",
   "execution_count": 29,
   "metadata": {},
   "outputs": [
    {
     "data": {
      "text/plain": [
       "{'timestamp': 1683210643,\n",
       " 'iss_position': {'latitude': '-8.4048', 'longitude': '97.9062'},\n",
       " 'message': 'success'}"
      ]
     },
     "execution_count": 29,
     "metadata": {},
     "output_type": "execute_result"
    }
   ],
   "source": [
    "data"
   ]
  },
  {
   "cell_type": "code",
   "execution_count": 30,
   "metadata": {},
   "outputs": [],
   "source": [
    "date=data['timestamp'] # text -> dict"
   ]
  },
  {
   "cell_type": "code",
   "execution_count": 34,
   "metadata": {},
   "outputs": [
    {
     "name": "stdout",
     "output_type": "stream",
     "text": [
      "2023-05-04 20:00:43\n"
     ]
    }
   ],
   "source": [
    "from datetime import datetime\n",
    "# translated str to json \n",
    "get_date=datetime.fromtimestamp(date) # parsing through the key to get the value \n",
    "print(get_date) "
   ]
  },
  {
   "cell_type": "code",
   "execution_count": 35,
   "metadata": {},
   "outputs": [
    {
     "data": {
      "text/plain": [
       "'97.9062'"
      ]
     },
     "execution_count": 35,
     "metadata": {},
     "output_type": "execute_result"
    }
   ],
   "source": [
    "data['iss_position']['longitude']"
   ]
  },
  {
   "cell_type": "code",
   "execution_count": 36,
   "metadata": {},
   "outputs": [
    {
     "data": {
      "text/plain": [
       "'-8.4048'"
      ]
     },
     "execution_count": 36,
     "metadata": {},
     "output_type": "execute_result"
    }
   ],
   "source": [
    "data['iss_position']['latitude']"
   ]
  },
  {
   "cell_type": "markdown",
   "metadata": {},
   "source": [
    "#### Weather Api"
   ]
  },
  {
   "cell_type": "code",
   "execution_count": 37,
   "metadata": {},
   "outputs": [],
   "source": [
    "id = '1277333' \n",
    "# refer to different id values from https://openweathermap.org/api/hourly-forecast \n",
    "# 1261481 for delhi # 1277333 for bengaluru\n",
    "# url='http://api.openweathermap.org/data/2.5/forecast?id='+id+'&APPID=1960401d79b51d8c3be286b9463a081b'\n",
    "\n",
    "url = \"http://api.openweathermap.org/data/2.5/forecast/\"\n",
    "\n",
    "params = {\n",
    "    \"id\" : id,\n",
    "    \"APPID\" : \"1960401d79b51d8c3be286b9463a081b\",\n",
    "}"
   ]
  },
  {
   "cell_type": "code",
   "execution_count": 38,
   "metadata": {},
   "outputs": [
    {
     "name": "stdout",
     "output_type": "stream",
     "text": [
      "http://api.openweathermap.org/data/2.5/forecast/?id=1277333&APPID=1960401d79b51d8c3be286b9463a081b\n"
     ]
    }
   ],
   "source": [
    "source=requests.get(url=url, params=params)\n",
    "print(source.url)\n",
    "weather=json.loads(source.text) # convert json text to python dictionary "
   ]
  },
  {
   "cell_type": "code",
   "execution_count": 39,
   "metadata": {},
   "outputs": [
    {
     "name": "stdout",
     "output_type": "stream",
     "text": [
      "{\"cod\":\"200\",\"message\":0,\"cnt\":40,\"list\":[{\"dt\":1683212400,\"main\":{\"temp\":302.16,\"feels_like\":304.68,\"temp_min\":298.76,\"temp_max\":302.16,\"pressure\":1009,\"sea_level\":1009,\"grnd_level\":910,\"humidity\":63,\"temp_kf\":3.4},\"weather\":[{\"id\":500,\"main\":\"Rain\",\"description\":\"light rain\",\"icon\":\"10n\"}],\"clouds\":{\"all\":100},\"wind\":{\"speed\":2.48,\"deg\":59,\"gust\":2.78},\"visibility\":10000,\"pop\":0.57,\"rain\":{\"3h\":0.69},\"sys\":{\"pod\":\"n\"},\"dt_txt\":\"2023-05-04 15:00:00\"},{\"dt\":1683223200,\"main\":{\"temp\":300.4,\"feels_like\":302.07,\"temp_min\":296.88,\"temp_max\":300.4,\"pressure\":1009,\"sea_level\":1009,\"grnd_level\":910,\"humidity\":66,\"temp_kf\":3.52},\"weather\":[{\"id\":500,\"main\":\"Rain\",\"description\":\"light rain\",\"icon\":\"10n\"}],\"clouds\":{\"all\":100},\"wind\":{\"speed\":3.36,\"deg\":85,\"gust\":4.62},\"visibility\":10000,\"pop\":0.65,\"rain\":{\"3h\":3},\"sys\":{\"pod\":\"n\"},\"dt_txt\":\"2023-05-04 18:00:00\"},{\"dt\":1683234000,\"main\":{\"temp\":298.29,\"feels_like\":298.71,\"temp_min\":296.35,\"temp_max\":298.29,\"pressure\":1008,\"sea_level\":1008,\"grnd_level\":908,\"humidity\":71,\"temp_kf\":1.94},\"weather\":[{\"id\":500,\"main\":\"Rain\",\"description\":\"light rain\",\"icon\":\"10n\"}],\"clouds\":{\"all\":100},\"wind\":{\"speed\":2.51,\"deg\":163,\"gust\":3.98},\"visibility\":10000,\"pop\":0.92,\"rain\":{\"3h\":0.75},\"sys\":{\"pod\":\"n\"},\"dt_txt\":\"2023-05-04 21:00:00\"},{\"dt\":1683244800,\"main\":{\"temp\":295.95,\"feels_like\":296.27,\"temp_min\":295.95,\"temp_max\":295.95,\"pressure\":1009,\"sea_level\":1009,\"grnd_level\":908,\"humidity\":76,\"temp_kf\":0},\"weather\":[{\"id\":500,\"main\":\"Rain\",\"description\":\"light rain\",\"icon\":\"10n\"}],\"clouds\":{\"all\":99},\"wind\":{\"speed\":2.7,\"deg\":240,\"gust\":4.28},\"visibility\":10000,\"pop\":0.92,\"rain\":{\"3h\":0.37},\"sys\":{\"pod\":\"n\"},\"dt_txt\":\"2023-05-05 00:00:00\"},{\"dt\":1683255600,\"main\":{\"temp\":297.08,\"feels_like\":297.3,\"temp_min\":297.08,\"temp_max\":297.08,\"pressure\":1011,\"sea_level\":1011,\"grnd_level\":911,\"humidity\":68,\"temp_kf\":0},\"weather\":[{\"id\":500,\"main\":\"Rain\",\"description\":\"light rain\",\"icon\":\"10d\"}],\"clouds\":{\"all\":100},\"wind\":{\"speed\":3.78,\"deg\":276,\"gust\":4.75},\"visibility\":10000,\"pop\":0.82,\"rain\":{\"3h\":1.75},\"sys\":{\"pod\":\"d\"},\"dt_txt\":\"2023-05-05 03:00:00\"},{\"dt\":1683266400,\"main\":{\"temp\":297.2,\"feels_like\":297.44,\"temp_min\":297.2,\"temp_max\":297.2,\"pressure\":1010,\"sea_level\":1010,\"grnd_level\":910,\"humidity\":68,\"temp_kf\":0},\"weather\":[{\"id\":500,\"main\":\"Rain\",\"description\":\"light rain\",\"icon\":\"10d\"}],\"clouds\":{\"all\":100},\"wind\":{\"speed\":2.51,\"deg\":242,\"gust\":3.31},\"visibility\":10000,\"pop\":0.9,\"rain\":{\"3h\":2.04},\"sys\":{\"pod\":\"d\"},\"dt_txt\":\"2023-05-05 06:00:00\"},{\"dt\":1683277200,\"main\":{\"temp\":296.99,\"feels_like\":297.23,\"temp_min\":296.99,\"temp_max\":296.99,\"pressure\":1008,\"sea_level\":1008,\"grnd_level\":908,\"humidity\":69,\"temp_kf\":0},\"weather\":[{\"id\":500,\"main\":\"Rain\",\"description\":\"light rain\",\"icon\":\"10d\"}],\"clouds\":{\"all\":100},\"wind\":{\"speed\":2.03,\"deg\":248,\"gust\":2.9},\"visibility\":10000,\"pop\":0.59,\"rain\":{\"3h\":1.27},\"sys\":{\"pod\":\"d\"},\"dt_txt\":\"2023-05-05 09:00:00\"},{\"dt\":1683288000,\"main\":{\"temp\":296.59,\"feels_like\":296.84,\"temp_min\":296.59,\"temp_max\":296.59,\"pressure\":1007,\"sea_level\":1007,\"grnd_level\":907,\"humidity\":71,\"temp_kf\":0},\"weather\":[{\"id\":500,\"main\":\"Rain\",\"description\":\"light rain\",\"icon\":\"10d\"}],\"clouds\":{\"all\":100},\"wind\":{\"speed\":1.88,\"deg\":346,\"gust\":3.87},\"visibility\":10000,\"pop\":0.59,\"rain\":{\"3h\":0.16},\"sys\":{\"pod\":\"d\"},\"dt_txt\":\"2023-05-05 12:00:00\"},{\"dt\":1683298800,\"main\":{\"temp\":296.59,\"feels_like\":296.82,\"temp_min\":296.59,\"temp_max\":296.59,\"pressure\":1010,\"sea_level\":1010,\"grnd_level\":909,\"humidity\":70,\"temp_kf\":0},\"weather\":[{\"id\":804,\"main\":\"Clouds\",\"description\":\"overcast clouds\",\"icon\":\"04n\"}],\"clouds\":{\"all\":100},\"wind\":{\"speed\":2.41,\"deg\":280,\"gust\":3.79},\"visibility\":10000,\"pop\":0.32,\"sys\":{\"pod\":\"n\"},\"dt_txt\":\"2023-05-05 15:00:00\"},{\"dt\":1683309600,\"main\":{\"temp\":295.7,\"feels_like\":296.05,\"temp_min\":295.7,\"temp_max\":295.7,\"pressure\":1010,\"sea_level\":1010,\"grnd_level\":909,\"humidity\":78,\"temp_kf\":0},\"weather\":[{\"id\":804,\"main\":\"Clouds\",\"description\":\"overcast clouds\",\"icon\":\"04n\"}],\"clouds\":{\"all\":100},\"wind\":{\"speed\":2.78,\"deg\":256,\"gust\":4.94},\"visibility\":10000,\"pop\":0.25,\"sys\":{\"pod\":\"n\"},\"dt_txt\":\"2023-05-05 18:00:00\"},{\"dt\":1683320400,\"main\":{\"temp\":295,\"feels_like\":295.36,\"temp_min\":295,\"temp_max\":295,\"pressure\":1008,\"sea_level\":1008,\"grnd_level\":907,\"humidity\":81,\"temp_kf\":0},\"weather\":[{\"id\":804,\"main\":\"Clouds\",\"description\":\"overcast clouds\",\"icon\":\"04n\"}],\"clouds\":{\"all\":100},\"wind\":{\"speed\":2.38,\"deg\":243,\"gust\":4.13},\"visibility\":10000,\"pop\":0.31,\"sys\":{\"pod\":\"n\"},\"dt_txt\":\"2023-05-05 21:00:00\"},{\"dt\":1683331200,\"main\":{\"temp\":294.81,\"feels_like\":295.17,\"temp_min\":294.81,\"temp_max\":294.81,\"pressure\":1009,\"sea_level\":1009,\"grnd_level\":908,\"humidity\":82,\"temp_kf\":0},\"weather\":[{\"id\":500,\"main\":\"Rain\",\"description\":\"light rain\",\"icon\":\"10n\"}],\"clouds\":{\"all\":100},\"wind\":{\"speed\":2.06,\"deg\":268,\"gust\":3.5},\"visibility\":10000,\"pop\":0.72,\"rain\":{\"3h\":0.51},\"sys\":{\"pod\":\"n\"},\"dt_txt\":\"2023-05-06 00:00:00\"},{\"dt\":1683342000,\"main\":{\"temp\":295.82,\"feels_like\":296.15,\"temp_min\":295.82,\"temp_max\":295.82,\"pressure\":1011,\"sea_level\":1011,\"grnd_level\":910,\"humidity\":77,\"temp_kf\":0},\"weather\":[{\"id\":500,\"main\":\"Rain\",\"description\":\"light rain\",\"icon\":\"10d\"}],\"clouds\":{\"all\":100},\"wind\":{\"speed\":2.38,\"deg\":292,\"gust\":3.82},\"visibility\":10000,\"pop\":0.86,\"rain\":{\"3h\":1.72},\"sys\":{\"pod\":\"d\"},\"dt_txt\":\"2023-05-06 03:00:00\"},{\"dt\":1683352800,\"main\":{\"temp\":296.26,\"feels_like\":296.56,\"temp_min\":296.26,\"temp_max\":296.26,\"pressure\":1011,\"sea_level\":1011,\"grnd_level\":910,\"humidity\":74,\"temp_kf\":0},\"weather\":[{\"id\":500,\"main\":\"Rain\",\"description\":\"light rain\",\"icon\":\"10d\"}],\"clouds\":{\"all\":99},\"wind\":{\"speed\":3.53,\"deg\":304,\"gust\":4.53},\"visibility\":10000,\"pop\":0.94,\"rain\":{\"3h\":0.8},\"sys\":{\"pod\":\"d\"},\"dt_txt\":\"2023-05-06 06:00:00\"},{\"dt\":1683363600,\"main\":{\"temp\":297.25,\"feels_like\":297.52,\"temp_min\":297.25,\"temp_max\":297.25,\"pressure\":1008,\"sea_level\":1008,\"grnd_level\":908,\"humidity\":69,\"temp_kf\":0},\"weather\":[{\"id\":500,\"main\":\"Rain\",\"description\":\"light rain\",\"icon\":\"10d\"}],\"clouds\":{\"all\":96},\"wind\":{\"speed\":3.42,\"deg\":298,\"gust\":4.61},\"visibility\":10000,\"pop\":0.69,\"rain\":{\"3h\":0.56},\"sys\":{\"pod\":\"d\"},\"dt_txt\":\"2023-05-06 09:00:00\"},{\"dt\":1683374400,\"main\":{\"temp\":296.43,\"feels_like\":296.72,\"temp_min\":296.43,\"temp_max\":296.43,\"pressure\":1008,\"sea_level\":1008,\"grnd_level\":908,\"humidity\":73,\"temp_kf\":0},\"weather\":[{\"id\":500,\"main\":\"Rain\",\"description\":\"light rain\",\"icon\":\"10d\"}],\"clouds\":{\"all\":98},\"wind\":{\"speed\":2.75,\"deg\":274,\"gust\":4.41},\"visibility\":7915,\"pop\":0.74,\"rain\":{\"3h\":2.85},\"sys\":{\"pod\":\"d\"},\"dt_txt\":\"2023-05-06 12:00:00\"},{\"dt\":1683385200,\"main\":{\"temp\":295.32,\"feels_like\":295.66,\"temp_min\":295.32,\"temp_max\":295.32,\"pressure\":1010,\"sea_level\":1010,\"grnd_level\":909,\"humidity\":79,\"temp_kf\":0},\"weather\":[{\"id\":500,\"main\":\"Rain\",\"description\":\"light rain\",\"icon\":\"10n\"}],\"clouds\":{\"all\":100},\"wind\":{\"speed\":2.63,\"deg\":233,\"gust\":4.54},\"visibility\":10000,\"pop\":0.37,\"rain\":{\"3h\":0.64},\"sys\":{\"pod\":\"n\"},\"dt_txt\":\"2023-05-06 15:00:00\"},{\"dt\":1683396000,\"main\":{\"temp\":294.81,\"feels_like\":295.15,\"temp_min\":294.81,\"temp_max\":294.81,\"pressure\":1010,\"sea_level\":1010,\"grnd_level\":909,\"humidity\":81,\"temp_kf\":0},\"weather\":[{\"id\":500,\"main\":\"Rain\",\"description\":\"light rain\",\"icon\":\"10n\"}],\"clouds\":{\"all\":100},\"wind\":{\"speed\":2.48,\"deg\":234,\"gust\":4.88},\"visibility\":10000,\"pop\":0.31,\"rain\":{\"3h\":0.14},\"sys\":{\"pod\":\"n\"},\"dt_txt\":\"2023-05-06 18:00:00\"},{\"dt\":1683406800,\"main\":{\"temp\":294.31,\"feels_like\":294.6,\"temp_min\":294.31,\"temp_max\":294.31,\"pressure\":1008,\"sea_level\":1008,\"grnd_level\":907,\"humidity\":81,\"temp_kf\":0},\"weather\":[{\"id\":804,\"main\":\"Clouds\",\"description\":\"overcast clouds\",\"icon\":\"04n\"}],\"clouds\":{\"all\":100},\"wind\":{\"speed\":3.17,\"deg\":262,\"gust\":7.07},\"visibility\":10000,\"pop\":0.12,\"sys\":{\"pod\":\"n\"},\"dt_txt\":\"2023-05-06 21:00:00\"},{\"dt\":1683417600,\"main\":{\"temp\":294.06,\"feels_like\":294.4,\"temp_min\":294.06,\"temp_max\":294.06,\"pressure\":1009,\"sea_level\":1009,\"grnd_level\":908,\"humidity\":84,\"temp_kf\":0},\"weather\":[{\"id\":500,\"main\":\"Rain\",\"description\":\"light rain\",\"icon\":\"10n\"}],\"clouds\":{\"all\":100},\"wind\":{\"speed\":2.78,\"deg\":260,\"gust\":5.65},\"visibility\":10000,\"pop\":0.29,\"rain\":{\"3h\":0.2},\"sys\":{\"pod\":\"n\"},\"dt_txt\":\"2023-05-07 00:00:00\"},{\"dt\":1683428400,\"main\":{\"temp\":294.52,\"feels_like\":294.88,\"temp_min\":294.52,\"temp_max\":294.52,\"pressure\":1011,\"sea_level\":1011,\"grnd_level\":910,\"humidity\":83,\"temp_kf\":0},\"weather\":[{\"id\":500,\"main\":\"Rain\",\"description\":\"light rain\",\"icon\":\"10d\"}],\"clouds\":{\"all\":100},\"wind\":{\"speed\":2.82,\"deg\":257,\"gust\":4.5},\"visibility\":10000,\"pop\":0.5,\"rain\":{\"3h\":0.25},\"sys\":{\"pod\":\"d\"},\"dt_txt\":\"2023-05-07 03:00:00\"},{\"dt\":1683439200,\"main\":{\"temp\":296.94,\"feels_like\":297.15,\"temp_min\":296.94,\"temp_max\":296.94,\"pressure\":1011,\"sea_level\":1011,\"grnd_level\":910,\"humidity\":68,\"temp_kf\":0},\"weather\":[{\"id\":500,\"main\":\"Rain\",\"description\":\"light rain\",\"icon\":\"10d\"}],\"clouds\":{\"all\":100},\"wind\":{\"speed\":4.35,\"deg\":272,\"gust\":5.97},\"visibility\":10000,\"pop\":0.43,\"rain\":{\"3h\":0.11},\"sys\":{\"pod\":\"d\"},\"dt_txt\":\"2023-05-07 06:00:00\"},{\"dt\":1683450000,\"main\":{\"temp\":297.34,\"feels_like\":297.56,\"temp_min\":297.34,\"temp_max\":297.34,\"pressure\":1008,\"sea_level\":1008,\"grnd_level\":908,\"humidity\":67,\"temp_kf\":0},\"weather\":[{\"id\":500,\"main\":\"Rain\",\"description\":\"light rain\",\"icon\":\"10d\"}],\"clouds\":{\"all\":100},\"wind\":{\"speed\":3.73,\"deg\":268,\"gust\":6.33},\"visibility\":10000,\"pop\":0.37,\"rain\":{\"3h\":0.15},\"sys\":{\"pod\":\"d\"},\"dt_txt\":\"2023-05-07 09:00:00\"},{\"dt\":1683460800,\"main\":{\"temp\":297.63,\"feels_like\":297.86,\"temp_min\":297.63,\"temp_max\":297.63,\"pressure\":1008,\"sea_level\":1008,\"grnd_level\":908,\"humidity\":66,\"temp_kf\":0},\"weather\":[{\"id\":804,\"main\":\"Clouds\",\"description\":\"overcast clouds\",\"icon\":\"04d\"}],\"clouds\":{\"all\":100},\"wind\":{\"speed\":3.29,\"deg\":282,\"gust\":5.21},\"visibility\":10000,\"pop\":0.06,\"sys\":{\"pod\":\"d\"},\"dt_txt\":\"2023-05-07 12:00:00\"},{\"dt\":1683471600,\"main\":{\"temp\":295.4,\"feels_like\":295.77,\"temp_min\":295.4,\"temp_max\":295.4,\"pressure\":1010,\"sea_level\":1010,\"grnd_level\":909,\"humidity\":80,\"temp_kf\":0},\"weather\":[{\"id\":804,\"main\":\"Clouds\",\"description\":\"overcast clouds\",\"icon\":\"04n\"}],\"clouds\":{\"all\":100},\"wind\":{\"speed\":4.39,\"deg\":238,\"gust\":7.22},\"visibility\":10000,\"pop\":0.26,\"sys\":{\"pod\":\"n\"},\"dt_txt\":\"2023-05-07 15:00:00\"},{\"dt\":1683482400,\"main\":{\"temp\":295.14,\"feels_like\":295.54,\"temp_min\":295.14,\"temp_max\":295.14,\"pressure\":1010,\"sea_level\":1010,\"grnd_level\":909,\"humidity\":82,\"temp_kf\":0},\"weather\":[{\"id\":804,\"main\":\"Clouds\",\"description\":\"overcast clouds\",\"icon\":\"04n\"}],\"clouds\":{\"all\":100},\"wind\":{\"speed\":4.14,\"deg\":260,\"gust\":8.5},\"visibility\":10000,\"pop\":0.37,\"sys\":{\"pod\":\"n\"},\"dt_txt\":\"2023-05-07 18:00:00\"},{\"dt\":1683493200,\"main\":{\"temp\":294.39,\"feels_like\":294.82,\"temp_min\":294.39,\"temp_max\":294.39,\"pressure\":1008,\"sea_level\":1008,\"grnd_level\":907,\"humidity\":86,\"temp_kf\":0},\"weather\":[{\"id\":804,\"main\":\"Clouds\",\"description\":\"overcast clouds\",\"icon\":\"04n\"}],\"clouds\":{\"all\":100},\"wind\":{\"speed\":5.13,\"deg\":273,\"gust\":9.5},\"visibility\":10000,\"pop\":0.22,\"sys\":{\"pod\":\"n\"},\"dt_txt\":\"2023-05-07 21:00:00\"},{\"dt\":1683504000,\"main\":{\"temp\":294.04,\"feels_like\":294.43,\"temp_min\":294.04,\"temp_max\":294.04,\"pressure\":1009,\"sea_level\":1009,\"grnd_level\":908,\"humidity\":86,\"temp_kf\":0},\"weather\":[{\"id\":804,\"main\":\"Clouds\",\"description\":\"overcast clouds\",\"icon\":\"04n\"}],\"clouds\":{\"all\":100},\"wind\":{\"speed\":4.1,\"deg\":278,\"gust\":7.98},\"visibility\":10000,\"pop\":0.22,\"sys\":{\"pod\":\"n\"},\"dt_txt\":\"2023-05-08 00:00:00\"},{\"dt\":1683514800,\"main\":{\"temp\":296.02,\"feels_like\":296.32,\"temp_min\":296.02,\"temp_max\":296.02,\"pressure\":1011,\"sea_level\":1011,\"grnd_level\":910,\"humidity\":75,\"temp_kf\":0},\"weather\":[{\"id\":804,\"main\":\"Clouds\",\"description\":\"overcast clouds\",\"icon\":\"04d\"}],\"clouds\":{\"all\":100},\"wind\":{\"speed\":5.21,\"deg\":312,\"gust\":7.72},\"visibility\":10000,\"pop\":0.2,\"sys\":{\"pod\":\"d\"},\"dt_txt\":\"2023-05-08 03:00:00\"},{\"dt\":1683525600,\"main\":{\"temp\":299.88,\"feels_like\":300.72,\"temp_min\":299.88,\"temp_max\":299.88,\"pressure\":1009,\"sea_level\":1009,\"grnd_level\":910,\"humidity\":57,\"temp_kf\":0},\"weather\":[{\"id\":804,\"main\":\"Clouds\",\"description\":\"overcast clouds\",\"icon\":\"04d\"}],\"clouds\":{\"all\":96},\"wind\":{\"speed\":4.99,\"deg\":299,\"gust\":5.2},\"visibility\":10000,\"pop\":0.14,\"sys\":{\"pod\":\"d\"},\"dt_txt\":\"2023-05-08 06:00:00\"},{\"dt\":1683536400,\"main\":{\"temp\":300.73,\"feels_like\":301.3,\"temp_min\":300.73,\"temp_max\":300.73,\"pressure\":1007,\"sea_level\":1007,\"grnd_level\":908,\"humidity\":52,\"temp_kf\":0},\"weather\":[{\"id\":804,\"main\":\"Clouds\",\"description\":\"overcast clouds\",\"icon\":\"04d\"}],\"clouds\":{\"all\":99},\"wind\":{\"speed\":4.38,\"deg\":293,\"gust\":4.51},\"visibility\":10000,\"pop\":0,\"sys\":{\"pod\":\"d\"},\"dt_txt\":\"2023-05-08 09:00:00\"},{\"dt\":1683547200,\"main\":{\"temp\":299.73,\"feels_like\":299.73,\"temp_min\":299.73,\"temp_max\":299.73,\"pressure\":1007,\"sea_level\":1007,\"grnd_level\":908,\"humidity\":55,\"temp_kf\":0},\"weather\":[{\"id\":804,\"main\":\"Clouds\",\"description\":\"overcast clouds\",\"icon\":\"04d\"}],\"clouds\":{\"all\":98},\"wind\":{\"speed\":4.07,\"deg\":298,\"gust\":4.7},\"visibility\":10000,\"pop\":0.11,\"sys\":{\"pod\":\"d\"},\"dt_txt\":\"2023-05-08 12:00:00\"},{\"dt\":1683558000,\"main\":{\"temp\":297.59,\"feels_like\":297.79,\"temp_min\":297.59,\"temp_max\":297.59,\"pressure\":1009,\"sea_level\":1009,\"grnd_level\":909,\"humidity\":65,\"temp_kf\":0},\"weather\":[{\"id\":804,\"main\":\"Clouds\",\"description\":\"overcast clouds\",\"icon\":\"04n\"}],\"clouds\":{\"all\":100},\"wind\":{\"speed\":2.52,\"deg\":264,\"gust\":4.06},\"visibility\":10000,\"pop\":0.26,\"sys\":{\"pod\":\"n\"},\"dt_txt\":\"2023-05-08 15:00:00\"},{\"dt\":1683568800,\"main\":{\"temp\":296.4,\"feels_like\":296.63,\"temp_min\":296.4,\"temp_max\":296.4,\"pressure\":1010,\"sea_level\":1010,\"grnd_level\":910,\"humidity\":71,\"temp_kf\":0},\"weather\":[{\"id\":804,\"main\":\"Clouds\",\"description\":\"overcast clouds\",\"icon\":\"04n\"}],\"clouds\":{\"all\":100},\"wind\":{\"speed\":2.93,\"deg\":227,\"gust\":4.22},\"visibility\":10000,\"pop\":0.25,\"sys\":{\"pod\":\"n\"},\"dt_txt\":\"2023-05-08 18:00:00\"},{\"dt\":1683579600,\"main\":{\"temp\":294.94,\"feels_like\":295.16,\"temp_min\":294.94,\"temp_max\":294.94,\"pressure\":1008,\"sea_level\":1008,\"grnd_level\":908,\"humidity\":76,\"temp_kf\":0},\"weather\":[{\"id\":804,\"main\":\"Clouds\",\"description\":\"overcast clouds\",\"icon\":\"04n\"}],\"clouds\":{\"all\":87},\"wind\":{\"speed\":3.3,\"deg\":258,\"gust\":5.96},\"visibility\":10000,\"pop\":0.09,\"sys\":{\"pod\":\"n\"},\"dt_txt\":\"2023-05-08 21:00:00\"},{\"dt\":1683590400,\"main\":{\"temp\":294.02,\"feels_like\":294.23,\"temp_min\":294.02,\"temp_max\":294.02,\"pressure\":1008,\"sea_level\":1008,\"grnd_level\":907,\"humidity\":79,\"temp_kf\":0},\"weather\":[{\"id\":804,\"main\":\"Clouds\",\"description\":\"overcast clouds\",\"icon\":\"04n\"}],\"clouds\":{\"all\":91},\"wind\":{\"speed\":3.52,\"deg\":241,\"gust\":6.72},\"visibility\":10000,\"pop\":0.04,\"sys\":{\"pod\":\"n\"},\"dt_txt\":\"2023-05-09 00:00:00\"},{\"dt\":1683601200,\"main\":{\"temp\":297.39,\"feels_like\":297.51,\"temp_min\":297.39,\"temp_max\":297.39,\"pressure\":1010,\"sea_level\":1010,\"grnd_level\":910,\"humidity\":63,\"temp_kf\":0},\"weather\":[{\"id\":804,\"main\":\"Clouds\",\"description\":\"overcast clouds\",\"icon\":\"04d\"}],\"clouds\":{\"all\":88},\"wind\":{\"speed\":5.11,\"deg\":278,\"gust\":6.7},\"visibility\":10000,\"pop\":0.1,\"sys\":{\"pod\":\"d\"},\"dt_txt\":\"2023-05-09 03:00:00\"},{\"dt\":1683612000,\"main\":{\"temp\":303.37,\"feels_like\":303.48,\"temp_min\":303.37,\"temp_max\":303.37,\"pressure\":1009,\"sea_level\":1009,\"grnd_level\":911,\"humidity\":43,\"temp_kf\":0},\"weather\":[{\"id\":803,\"main\":\"Clouds\",\"description\":\"broken clouds\",\"icon\":\"04d\"}],\"clouds\":{\"all\":68},\"wind\":{\"speed\":4.76,\"deg\":290,\"gust\":5.1},\"visibility\":10000,\"pop\":0.06,\"sys\":{\"pod\":\"d\"},\"dt_txt\":\"2023-05-09 06:00:00\"},{\"dt\":1683622800,\"main\":{\"temp\":305.59,\"feels_like\":305.7,\"temp_min\":305.59,\"temp_max\":305.59,\"pressure\":1005,\"sea_level\":1005,\"grnd_level\":908,\"humidity\":38,\"temp_kf\":0},\"weather\":[{\"id\":804,\"main\":\"Clouds\",\"description\":\"overcast clouds\",\"icon\":\"04d\"}],\"clouds\":{\"all\":88},\"wind\":{\"speed\":5.64,\"deg\":318,\"gust\":4.96},\"visibility\":10000,\"pop\":0,\"sys\":{\"pod\":\"d\"},\"dt_txt\":\"2023-05-09 09:00:00\"},{\"dt\":1683633600,\"main\":{\"temp\":303.85,\"feels_like\":304.11,\"temp_min\":303.85,\"temp_max\":303.85,\"pressure\":1005,\"sea_level\":1005,\"grnd_level\":907,\"humidity\":43,\"temp_kf\":0},\"weather\":[{\"id\":500,\"main\":\"Rain\",\"description\":\"light rain\",\"icon\":\"10d\"}],\"clouds\":{\"all\":84},\"wind\":{\"speed\":6.13,\"deg\":343,\"gust\":6.65},\"visibility\":10000,\"pop\":0.36,\"rain\":{\"3h\":0.11},\"sys\":{\"pod\":\"d\"},\"dt_txt\":\"2023-05-09 12:00:00\"}],\"city\":{\"id\":1277333,\"name\":\"Bengaluru\",\"coord\":{\"lat\":12.9762,\"lon\":77.6033},\"country\":\"IN\",\"population\":0,\"timezone\":19800,\"sunrise\":1683160071,\"sunset\":1683205493}}\n"
     ]
    }
   ],
   "source": [
    "print(source.text)"
   ]
  },
  {
   "cell_type": "code",
   "execution_count": 90,
   "metadata": {},
   "outputs": [],
   "source": [
    "# weather"
   ]
  },
  {
   "cell_type": "code",
   "execution_count": 40,
   "metadata": {},
   "outputs": [
    {
     "data": {
      "text/plain": [
       "dict_keys(['cod', 'message', 'cnt', 'list', 'city'])"
      ]
     },
     "execution_count": 40,
     "metadata": {},
     "output_type": "execute_result"
    }
   ],
   "source": [
    "weather.keys()"
   ]
  },
  {
   "cell_type": "code",
   "execution_count": 41,
   "metadata": {},
   "outputs": [
    {
     "name": "stdout",
     "output_type": "stream",
     "text": [
      "200\n"
     ]
    }
   ],
   "source": [
    "print(weather['cod'])"
   ]
  },
  {
   "cell_type": "code",
   "execution_count": 42,
   "metadata": {},
   "outputs": [
    {
     "name": "stdout",
     "output_type": "stream",
     "text": [
      "0\n"
     ]
    }
   ],
   "source": [
    "print(weather['message'])"
   ]
  },
  {
   "cell_type": "code",
   "execution_count": 43,
   "metadata": {},
   "outputs": [
    {
     "name": "stdout",
     "output_type": "stream",
     "text": [
      "40\n"
     ]
    }
   ],
   "source": [
    "print(weather['cnt'])"
   ]
  },
  {
   "cell_type": "code",
   "execution_count": 44,
   "metadata": {},
   "outputs": [
    {
     "name": "stdout",
     "output_type": "stream",
     "text": [
      "[{'dt': 1683212400, 'main': {'temp': 302.16, 'feels_like': 304.68, 'temp_min': 298.76, 'temp_max': 302.16, 'pressure': 1009, 'sea_level': 1009, 'grnd_level': 910, 'humidity': 63, 'temp_kf': 3.4}, 'weather': [{'id': 500, 'main': 'Rain', 'description': 'light rain', 'icon': '10n'}], 'clouds': {'all': 100}, 'wind': {'speed': 2.48, 'deg': 59, 'gust': 2.78}, 'visibility': 10000, 'pop': 0.57, 'rain': {'3h': 0.69}, 'sys': {'pod': 'n'}, 'dt_txt': '2023-05-04 15:00:00'}, {'dt': 1683223200, 'main': {'temp': 300.4, 'feels_like': 302.07, 'temp_min': 296.88, 'temp_max': 300.4, 'pressure': 1009, 'sea_level': 1009, 'grnd_level': 910, 'humidity': 66, 'temp_kf': 3.52}, 'weather': [{'id': 500, 'main': 'Rain', 'description': 'light rain', 'icon': '10n'}], 'clouds': {'all': 100}, 'wind': {'speed': 3.36, 'deg': 85, 'gust': 4.62}, 'visibility': 10000, 'pop': 0.65, 'rain': {'3h': 3}, 'sys': {'pod': 'n'}, 'dt_txt': '2023-05-04 18:00:00'}, {'dt': 1683234000, 'main': {'temp': 298.29, 'feels_like': 298.71, 'temp_min': 296.35, 'temp_max': 298.29, 'pressure': 1008, 'sea_level': 1008, 'grnd_level': 908, 'humidity': 71, 'temp_kf': 1.94}, 'weather': [{'id': 500, 'main': 'Rain', 'description': 'light rain', 'icon': '10n'}], 'clouds': {'all': 100}, 'wind': {'speed': 2.51, 'deg': 163, 'gust': 3.98}, 'visibility': 10000, 'pop': 0.92, 'rain': {'3h': 0.75}, 'sys': {'pod': 'n'}, 'dt_txt': '2023-05-04 21:00:00'}, {'dt': 1683244800, 'main': {'temp': 295.95, 'feels_like': 296.27, 'temp_min': 295.95, 'temp_max': 295.95, 'pressure': 1009, 'sea_level': 1009, 'grnd_level': 908, 'humidity': 76, 'temp_kf': 0}, 'weather': [{'id': 500, 'main': 'Rain', 'description': 'light rain', 'icon': '10n'}], 'clouds': {'all': 99}, 'wind': {'speed': 2.7, 'deg': 240, 'gust': 4.28}, 'visibility': 10000, 'pop': 0.92, 'rain': {'3h': 0.37}, 'sys': {'pod': 'n'}, 'dt_txt': '2023-05-05 00:00:00'}, {'dt': 1683255600, 'main': {'temp': 297.08, 'feels_like': 297.3, 'temp_min': 297.08, 'temp_max': 297.08, 'pressure': 1011, 'sea_level': 1011, 'grnd_level': 911, 'humidity': 68, 'temp_kf': 0}, 'weather': [{'id': 500, 'main': 'Rain', 'description': 'light rain', 'icon': '10d'}], 'clouds': {'all': 100}, 'wind': {'speed': 3.78, 'deg': 276, 'gust': 4.75}, 'visibility': 10000, 'pop': 0.82, 'rain': {'3h': 1.75}, 'sys': {'pod': 'd'}, 'dt_txt': '2023-05-05 03:00:00'}, {'dt': 1683266400, 'main': {'temp': 297.2, 'feels_like': 297.44, 'temp_min': 297.2, 'temp_max': 297.2, 'pressure': 1010, 'sea_level': 1010, 'grnd_level': 910, 'humidity': 68, 'temp_kf': 0}, 'weather': [{'id': 500, 'main': 'Rain', 'description': 'light rain', 'icon': '10d'}], 'clouds': {'all': 100}, 'wind': {'speed': 2.51, 'deg': 242, 'gust': 3.31}, 'visibility': 10000, 'pop': 0.9, 'rain': {'3h': 2.04}, 'sys': {'pod': 'd'}, 'dt_txt': '2023-05-05 06:00:00'}, {'dt': 1683277200, 'main': {'temp': 296.99, 'feels_like': 297.23, 'temp_min': 296.99, 'temp_max': 296.99, 'pressure': 1008, 'sea_level': 1008, 'grnd_level': 908, 'humidity': 69, 'temp_kf': 0}, 'weather': [{'id': 500, 'main': 'Rain', 'description': 'light rain', 'icon': '10d'}], 'clouds': {'all': 100}, 'wind': {'speed': 2.03, 'deg': 248, 'gust': 2.9}, 'visibility': 10000, 'pop': 0.59, 'rain': {'3h': 1.27}, 'sys': {'pod': 'd'}, 'dt_txt': '2023-05-05 09:00:00'}, {'dt': 1683288000, 'main': {'temp': 296.59, 'feels_like': 296.84, 'temp_min': 296.59, 'temp_max': 296.59, 'pressure': 1007, 'sea_level': 1007, 'grnd_level': 907, 'humidity': 71, 'temp_kf': 0}, 'weather': [{'id': 500, 'main': 'Rain', 'description': 'light rain', 'icon': '10d'}], 'clouds': {'all': 100}, 'wind': {'speed': 1.88, 'deg': 346, 'gust': 3.87}, 'visibility': 10000, 'pop': 0.59, 'rain': {'3h': 0.16}, 'sys': {'pod': 'd'}, 'dt_txt': '2023-05-05 12:00:00'}, {'dt': 1683298800, 'main': {'temp': 296.59, 'feels_like': 296.82, 'temp_min': 296.59, 'temp_max': 296.59, 'pressure': 1010, 'sea_level': 1010, 'grnd_level': 909, 'humidity': 70, 'temp_kf': 0}, 'weather': [{'id': 804, 'main': 'Clouds', 'description': 'overcast clouds', 'icon': '04n'}], 'clouds': {'all': 100}, 'wind': {'speed': 2.41, 'deg': 280, 'gust': 3.79}, 'visibility': 10000, 'pop': 0.32, 'sys': {'pod': 'n'}, 'dt_txt': '2023-05-05 15:00:00'}, {'dt': 1683309600, 'main': {'temp': 295.7, 'feels_like': 296.05, 'temp_min': 295.7, 'temp_max': 295.7, 'pressure': 1010, 'sea_level': 1010, 'grnd_level': 909, 'humidity': 78, 'temp_kf': 0}, 'weather': [{'id': 804, 'main': 'Clouds', 'description': 'overcast clouds', 'icon': '04n'}], 'clouds': {'all': 100}, 'wind': {'speed': 2.78, 'deg': 256, 'gust': 4.94}, 'visibility': 10000, 'pop': 0.25, 'sys': {'pod': 'n'}, 'dt_txt': '2023-05-05 18:00:00'}, {'dt': 1683320400, 'main': {'temp': 295, 'feels_like': 295.36, 'temp_min': 295, 'temp_max': 295, 'pressure': 1008, 'sea_level': 1008, 'grnd_level': 907, 'humidity': 81, 'temp_kf': 0}, 'weather': [{'id': 804, 'main': 'Clouds', 'description': 'overcast clouds', 'icon': '04n'}], 'clouds': {'all': 100}, 'wind': {'speed': 2.38, 'deg': 243, 'gust': 4.13}, 'visibility': 10000, 'pop': 0.31, 'sys': {'pod': 'n'}, 'dt_txt': '2023-05-05 21:00:00'}, {'dt': 1683331200, 'main': {'temp': 294.81, 'feels_like': 295.17, 'temp_min': 294.81, 'temp_max': 294.81, 'pressure': 1009, 'sea_level': 1009, 'grnd_level': 908, 'humidity': 82, 'temp_kf': 0}, 'weather': [{'id': 500, 'main': 'Rain', 'description': 'light rain', 'icon': '10n'}], 'clouds': {'all': 100}, 'wind': {'speed': 2.06, 'deg': 268, 'gust': 3.5}, 'visibility': 10000, 'pop': 0.72, 'rain': {'3h': 0.51}, 'sys': {'pod': 'n'}, 'dt_txt': '2023-05-06 00:00:00'}, {'dt': 1683342000, 'main': {'temp': 295.82, 'feels_like': 296.15, 'temp_min': 295.82, 'temp_max': 295.82, 'pressure': 1011, 'sea_level': 1011, 'grnd_level': 910, 'humidity': 77, 'temp_kf': 0}, 'weather': [{'id': 500, 'main': 'Rain', 'description': 'light rain', 'icon': '10d'}], 'clouds': {'all': 100}, 'wind': {'speed': 2.38, 'deg': 292, 'gust': 3.82}, 'visibility': 10000, 'pop': 0.86, 'rain': {'3h': 1.72}, 'sys': {'pod': 'd'}, 'dt_txt': '2023-05-06 03:00:00'}, {'dt': 1683352800, 'main': {'temp': 296.26, 'feels_like': 296.56, 'temp_min': 296.26, 'temp_max': 296.26, 'pressure': 1011, 'sea_level': 1011, 'grnd_level': 910, 'humidity': 74, 'temp_kf': 0}, 'weather': [{'id': 500, 'main': 'Rain', 'description': 'light rain', 'icon': '10d'}], 'clouds': {'all': 99}, 'wind': {'speed': 3.53, 'deg': 304, 'gust': 4.53}, 'visibility': 10000, 'pop': 0.94, 'rain': {'3h': 0.8}, 'sys': {'pod': 'd'}, 'dt_txt': '2023-05-06 06:00:00'}, {'dt': 1683363600, 'main': {'temp': 297.25, 'feels_like': 297.52, 'temp_min': 297.25, 'temp_max': 297.25, 'pressure': 1008, 'sea_level': 1008, 'grnd_level': 908, 'humidity': 69, 'temp_kf': 0}, 'weather': [{'id': 500, 'main': 'Rain', 'description': 'light rain', 'icon': '10d'}], 'clouds': {'all': 96}, 'wind': {'speed': 3.42, 'deg': 298, 'gust': 4.61}, 'visibility': 10000, 'pop': 0.69, 'rain': {'3h': 0.56}, 'sys': {'pod': 'd'}, 'dt_txt': '2023-05-06 09:00:00'}, {'dt': 1683374400, 'main': {'temp': 296.43, 'feels_like': 296.72, 'temp_min': 296.43, 'temp_max': 296.43, 'pressure': 1008, 'sea_level': 1008, 'grnd_level': 908, 'humidity': 73, 'temp_kf': 0}, 'weather': [{'id': 500, 'main': 'Rain', 'description': 'light rain', 'icon': '10d'}], 'clouds': {'all': 98}, 'wind': {'speed': 2.75, 'deg': 274, 'gust': 4.41}, 'visibility': 7915, 'pop': 0.74, 'rain': {'3h': 2.85}, 'sys': {'pod': 'd'}, 'dt_txt': '2023-05-06 12:00:00'}, {'dt': 1683385200, 'main': {'temp': 295.32, 'feels_like': 295.66, 'temp_min': 295.32, 'temp_max': 295.32, 'pressure': 1010, 'sea_level': 1010, 'grnd_level': 909, 'humidity': 79, 'temp_kf': 0}, 'weather': [{'id': 500, 'main': 'Rain', 'description': 'light rain', 'icon': '10n'}], 'clouds': {'all': 100}, 'wind': {'speed': 2.63, 'deg': 233, 'gust': 4.54}, 'visibility': 10000, 'pop': 0.37, 'rain': {'3h': 0.64}, 'sys': {'pod': 'n'}, 'dt_txt': '2023-05-06 15:00:00'}, {'dt': 1683396000, 'main': {'temp': 294.81, 'feels_like': 295.15, 'temp_min': 294.81, 'temp_max': 294.81, 'pressure': 1010, 'sea_level': 1010, 'grnd_level': 909, 'humidity': 81, 'temp_kf': 0}, 'weather': [{'id': 500, 'main': 'Rain', 'description': 'light rain', 'icon': '10n'}], 'clouds': {'all': 100}, 'wind': {'speed': 2.48, 'deg': 234, 'gust': 4.88}, 'visibility': 10000, 'pop': 0.31, 'rain': {'3h': 0.14}, 'sys': {'pod': 'n'}, 'dt_txt': '2023-05-06 18:00:00'}, {'dt': 1683406800, 'main': {'temp': 294.31, 'feels_like': 294.6, 'temp_min': 294.31, 'temp_max': 294.31, 'pressure': 1008, 'sea_level': 1008, 'grnd_level': 907, 'humidity': 81, 'temp_kf': 0}, 'weather': [{'id': 804, 'main': 'Clouds', 'description': 'overcast clouds', 'icon': '04n'}], 'clouds': {'all': 100}, 'wind': {'speed': 3.17, 'deg': 262, 'gust': 7.07}, 'visibility': 10000, 'pop': 0.12, 'sys': {'pod': 'n'}, 'dt_txt': '2023-05-06 21:00:00'}, {'dt': 1683417600, 'main': {'temp': 294.06, 'feels_like': 294.4, 'temp_min': 294.06, 'temp_max': 294.06, 'pressure': 1009, 'sea_level': 1009, 'grnd_level': 908, 'humidity': 84, 'temp_kf': 0}, 'weather': [{'id': 500, 'main': 'Rain', 'description': 'light rain', 'icon': '10n'}], 'clouds': {'all': 100}, 'wind': {'speed': 2.78, 'deg': 260, 'gust': 5.65}, 'visibility': 10000, 'pop': 0.29, 'rain': {'3h': 0.2}, 'sys': {'pod': 'n'}, 'dt_txt': '2023-05-07 00:00:00'}, {'dt': 1683428400, 'main': {'temp': 294.52, 'feels_like': 294.88, 'temp_min': 294.52, 'temp_max': 294.52, 'pressure': 1011, 'sea_level': 1011, 'grnd_level': 910, 'humidity': 83, 'temp_kf': 0}, 'weather': [{'id': 500, 'main': 'Rain', 'description': 'light rain', 'icon': '10d'}], 'clouds': {'all': 100}, 'wind': {'speed': 2.82, 'deg': 257, 'gust': 4.5}, 'visibility': 10000, 'pop': 0.5, 'rain': {'3h': 0.25}, 'sys': {'pod': 'd'}, 'dt_txt': '2023-05-07 03:00:00'}, {'dt': 1683439200, 'main': {'temp': 296.94, 'feels_like': 297.15, 'temp_min': 296.94, 'temp_max': 296.94, 'pressure': 1011, 'sea_level': 1011, 'grnd_level': 910, 'humidity': 68, 'temp_kf': 0}, 'weather': [{'id': 500, 'main': 'Rain', 'description': 'light rain', 'icon': '10d'}], 'clouds': {'all': 100}, 'wind': {'speed': 4.35, 'deg': 272, 'gust': 5.97}, 'visibility': 10000, 'pop': 0.43, 'rain': {'3h': 0.11}, 'sys': {'pod': 'd'}, 'dt_txt': '2023-05-07 06:00:00'}, {'dt': 1683450000, 'main': {'temp': 297.34, 'feels_like': 297.56, 'temp_min': 297.34, 'temp_max': 297.34, 'pressure': 1008, 'sea_level': 1008, 'grnd_level': 908, 'humidity': 67, 'temp_kf': 0}, 'weather': [{'id': 500, 'main': 'Rain', 'description': 'light rain', 'icon': '10d'}], 'clouds': {'all': 100}, 'wind': {'speed': 3.73, 'deg': 268, 'gust': 6.33}, 'visibility': 10000, 'pop': 0.37, 'rain': {'3h': 0.15}, 'sys': {'pod': 'd'}, 'dt_txt': '2023-05-07 09:00:00'}, {'dt': 1683460800, 'main': {'temp': 297.63, 'feels_like': 297.86, 'temp_min': 297.63, 'temp_max': 297.63, 'pressure': 1008, 'sea_level': 1008, 'grnd_level': 908, 'humidity': 66, 'temp_kf': 0}, 'weather': [{'id': 804, 'main': 'Clouds', 'description': 'overcast clouds', 'icon': '04d'}], 'clouds': {'all': 100}, 'wind': {'speed': 3.29, 'deg': 282, 'gust': 5.21}, 'visibility': 10000, 'pop': 0.06, 'sys': {'pod': 'd'}, 'dt_txt': '2023-05-07 12:00:00'}, {'dt': 1683471600, 'main': {'temp': 295.4, 'feels_like': 295.77, 'temp_min': 295.4, 'temp_max': 295.4, 'pressure': 1010, 'sea_level': 1010, 'grnd_level': 909, 'humidity': 80, 'temp_kf': 0}, 'weather': [{'id': 804, 'main': 'Clouds', 'description': 'overcast clouds', 'icon': '04n'}], 'clouds': {'all': 100}, 'wind': {'speed': 4.39, 'deg': 238, 'gust': 7.22}, 'visibility': 10000, 'pop': 0.26, 'sys': {'pod': 'n'}, 'dt_txt': '2023-05-07 15:00:00'}, {'dt': 1683482400, 'main': {'temp': 295.14, 'feels_like': 295.54, 'temp_min': 295.14, 'temp_max': 295.14, 'pressure': 1010, 'sea_level': 1010, 'grnd_level': 909, 'humidity': 82, 'temp_kf': 0}, 'weather': [{'id': 804, 'main': 'Clouds', 'description': 'overcast clouds', 'icon': '04n'}], 'clouds': {'all': 100}, 'wind': {'speed': 4.14, 'deg': 260, 'gust': 8.5}, 'visibility': 10000, 'pop': 0.37, 'sys': {'pod': 'n'}, 'dt_txt': '2023-05-07 18:00:00'}, {'dt': 1683493200, 'main': {'temp': 294.39, 'feels_like': 294.82, 'temp_min': 294.39, 'temp_max': 294.39, 'pressure': 1008, 'sea_level': 1008, 'grnd_level': 907, 'humidity': 86, 'temp_kf': 0}, 'weather': [{'id': 804, 'main': 'Clouds', 'description': 'overcast clouds', 'icon': '04n'}], 'clouds': {'all': 100}, 'wind': {'speed': 5.13, 'deg': 273, 'gust': 9.5}, 'visibility': 10000, 'pop': 0.22, 'sys': {'pod': 'n'}, 'dt_txt': '2023-05-07 21:00:00'}, {'dt': 1683504000, 'main': {'temp': 294.04, 'feels_like': 294.43, 'temp_min': 294.04, 'temp_max': 294.04, 'pressure': 1009, 'sea_level': 1009, 'grnd_level': 908, 'humidity': 86, 'temp_kf': 0}, 'weather': [{'id': 804, 'main': 'Clouds', 'description': 'overcast clouds', 'icon': '04n'}], 'clouds': {'all': 100}, 'wind': {'speed': 4.1, 'deg': 278, 'gust': 7.98}, 'visibility': 10000, 'pop': 0.22, 'sys': {'pod': 'n'}, 'dt_txt': '2023-05-08 00:00:00'}, {'dt': 1683514800, 'main': {'temp': 296.02, 'feels_like': 296.32, 'temp_min': 296.02, 'temp_max': 296.02, 'pressure': 1011, 'sea_level': 1011, 'grnd_level': 910, 'humidity': 75, 'temp_kf': 0}, 'weather': [{'id': 804, 'main': 'Clouds', 'description': 'overcast clouds', 'icon': '04d'}], 'clouds': {'all': 100}, 'wind': {'speed': 5.21, 'deg': 312, 'gust': 7.72}, 'visibility': 10000, 'pop': 0.2, 'sys': {'pod': 'd'}, 'dt_txt': '2023-05-08 03:00:00'}, {'dt': 1683525600, 'main': {'temp': 299.88, 'feels_like': 300.72, 'temp_min': 299.88, 'temp_max': 299.88, 'pressure': 1009, 'sea_level': 1009, 'grnd_level': 910, 'humidity': 57, 'temp_kf': 0}, 'weather': [{'id': 804, 'main': 'Clouds', 'description': 'overcast clouds', 'icon': '04d'}], 'clouds': {'all': 96}, 'wind': {'speed': 4.99, 'deg': 299, 'gust': 5.2}, 'visibility': 10000, 'pop': 0.14, 'sys': {'pod': 'd'}, 'dt_txt': '2023-05-08 06:00:00'}, {'dt': 1683536400, 'main': {'temp': 300.73, 'feels_like': 301.3, 'temp_min': 300.73, 'temp_max': 300.73, 'pressure': 1007, 'sea_level': 1007, 'grnd_level': 908, 'humidity': 52, 'temp_kf': 0}, 'weather': [{'id': 804, 'main': 'Clouds', 'description': 'overcast clouds', 'icon': '04d'}], 'clouds': {'all': 99}, 'wind': {'speed': 4.38, 'deg': 293, 'gust': 4.51}, 'visibility': 10000, 'pop': 0, 'sys': {'pod': 'd'}, 'dt_txt': '2023-05-08 09:00:00'}, {'dt': 1683547200, 'main': {'temp': 299.73, 'feels_like': 299.73, 'temp_min': 299.73, 'temp_max': 299.73, 'pressure': 1007, 'sea_level': 1007, 'grnd_level': 908, 'humidity': 55, 'temp_kf': 0}, 'weather': [{'id': 804, 'main': 'Clouds', 'description': 'overcast clouds', 'icon': '04d'}], 'clouds': {'all': 98}, 'wind': {'speed': 4.07, 'deg': 298, 'gust': 4.7}, 'visibility': 10000, 'pop': 0.11, 'sys': {'pod': 'd'}, 'dt_txt': '2023-05-08 12:00:00'}, {'dt': 1683558000, 'main': {'temp': 297.59, 'feels_like': 297.79, 'temp_min': 297.59, 'temp_max': 297.59, 'pressure': 1009, 'sea_level': 1009, 'grnd_level': 909, 'humidity': 65, 'temp_kf': 0}, 'weather': [{'id': 804, 'main': 'Clouds', 'description': 'overcast clouds', 'icon': '04n'}], 'clouds': {'all': 100}, 'wind': {'speed': 2.52, 'deg': 264, 'gust': 4.06}, 'visibility': 10000, 'pop': 0.26, 'sys': {'pod': 'n'}, 'dt_txt': '2023-05-08 15:00:00'}, {'dt': 1683568800, 'main': {'temp': 296.4, 'feels_like': 296.63, 'temp_min': 296.4, 'temp_max': 296.4, 'pressure': 1010, 'sea_level': 1010, 'grnd_level': 910, 'humidity': 71, 'temp_kf': 0}, 'weather': [{'id': 804, 'main': 'Clouds', 'description': 'overcast clouds', 'icon': '04n'}], 'clouds': {'all': 100}, 'wind': {'speed': 2.93, 'deg': 227, 'gust': 4.22}, 'visibility': 10000, 'pop': 0.25, 'sys': {'pod': 'n'}, 'dt_txt': '2023-05-08 18:00:00'}, {'dt': 1683579600, 'main': {'temp': 294.94, 'feels_like': 295.16, 'temp_min': 294.94, 'temp_max': 294.94, 'pressure': 1008, 'sea_level': 1008, 'grnd_level': 908, 'humidity': 76, 'temp_kf': 0}, 'weather': [{'id': 804, 'main': 'Clouds', 'description': 'overcast clouds', 'icon': '04n'}], 'clouds': {'all': 87}, 'wind': {'speed': 3.3, 'deg': 258, 'gust': 5.96}, 'visibility': 10000, 'pop': 0.09, 'sys': {'pod': 'n'}, 'dt_txt': '2023-05-08 21:00:00'}, {'dt': 1683590400, 'main': {'temp': 294.02, 'feels_like': 294.23, 'temp_min': 294.02, 'temp_max': 294.02, 'pressure': 1008, 'sea_level': 1008, 'grnd_level': 907, 'humidity': 79, 'temp_kf': 0}, 'weather': [{'id': 804, 'main': 'Clouds', 'description': 'overcast clouds', 'icon': '04n'}], 'clouds': {'all': 91}, 'wind': {'speed': 3.52, 'deg': 241, 'gust': 6.72}, 'visibility': 10000, 'pop': 0.04, 'sys': {'pod': 'n'}, 'dt_txt': '2023-05-09 00:00:00'}, {'dt': 1683601200, 'main': {'temp': 297.39, 'feels_like': 297.51, 'temp_min': 297.39, 'temp_max': 297.39, 'pressure': 1010, 'sea_level': 1010, 'grnd_level': 910, 'humidity': 63, 'temp_kf': 0}, 'weather': [{'id': 804, 'main': 'Clouds', 'description': 'overcast clouds', 'icon': '04d'}], 'clouds': {'all': 88}, 'wind': {'speed': 5.11, 'deg': 278, 'gust': 6.7}, 'visibility': 10000, 'pop': 0.1, 'sys': {'pod': 'd'}, 'dt_txt': '2023-05-09 03:00:00'}, {'dt': 1683612000, 'main': {'temp': 303.37, 'feels_like': 303.48, 'temp_min': 303.37, 'temp_max': 303.37, 'pressure': 1009, 'sea_level': 1009, 'grnd_level': 911, 'humidity': 43, 'temp_kf': 0}, 'weather': [{'id': 803, 'main': 'Clouds', 'description': 'broken clouds', 'icon': '04d'}], 'clouds': {'all': 68}, 'wind': {'speed': 4.76, 'deg': 290, 'gust': 5.1}, 'visibility': 10000, 'pop': 0.06, 'sys': {'pod': 'd'}, 'dt_txt': '2023-05-09 06:00:00'}, {'dt': 1683622800, 'main': {'temp': 305.59, 'feels_like': 305.7, 'temp_min': 305.59, 'temp_max': 305.59, 'pressure': 1005, 'sea_level': 1005, 'grnd_level': 908, 'humidity': 38, 'temp_kf': 0}, 'weather': [{'id': 804, 'main': 'Clouds', 'description': 'overcast clouds', 'icon': '04d'}], 'clouds': {'all': 88}, 'wind': {'speed': 5.64, 'deg': 318, 'gust': 4.96}, 'visibility': 10000, 'pop': 0, 'sys': {'pod': 'd'}, 'dt_txt': '2023-05-09 09:00:00'}, {'dt': 1683633600, 'main': {'temp': 303.85, 'feels_like': 304.11, 'temp_min': 303.85, 'temp_max': 303.85, 'pressure': 1005, 'sea_level': 1005, 'grnd_level': 907, 'humidity': 43, 'temp_kf': 0}, 'weather': [{'id': 500, 'main': 'Rain', 'description': 'light rain', 'icon': '10d'}], 'clouds': {'all': 84}, 'wind': {'speed': 6.13, 'deg': 343, 'gust': 6.65}, 'visibility': 10000, 'pop': 0.36, 'rain': {'3h': 0.11}, 'sys': {'pod': 'd'}, 'dt_txt': '2023-05-09 12:00:00'}]\n"
     ]
    }
   ],
   "source": [
    "print(weather['list'])"
   ]
  },
  {
   "cell_type": "code",
   "execution_count": 46,
   "metadata": {},
   "outputs": [
    {
     "name": "stdout",
     "output_type": "stream",
     "text": [
      "<class 'list'>\n",
      "[{'id': 500, 'main': 'Rain', 'description': 'light rain', 'icon': '10n'}]\n"
     ]
    }
   ],
   "source": [
    "print(type(weather['list']))\n",
    "#print(weather['list'][0])\n",
    "#print((weather['list'][0]).keys())\n",
    "print(weather['list'][0]['weather'])"
   ]
  },
  {
   "cell_type": "code",
   "execution_count": 47,
   "metadata": {},
   "outputs": [
    {
     "data": {
      "text/plain": [
       "{'id': 1277333,\n",
       " 'name': 'Bengaluru',\n",
       " 'coord': {'lat': 12.9762, 'lon': 77.6033},\n",
       " 'country': 'IN',\n",
       " 'population': 0,\n",
       " 'timezone': 19800,\n",
       " 'sunrise': 1683160071,\n",
       " 'sunset': 1683205493}"
      ]
     },
     "execution_count": 47,
     "metadata": {},
     "output_type": "execute_result"
    }
   ],
   "source": [
    "weather['city']"
   ]
  },
  {
   "cell_type": "code",
   "execution_count": 66,
   "metadata": {},
   "outputs": [
    {
     "data": {
      "text/plain": [
       "datetime.datetime(2023, 1, 10, 6, 44, 21)"
      ]
     },
     "execution_count": 66,
     "metadata": {},
     "output_type": "execute_result"
    }
   ],
   "source": [
    "datetime.datetime.fromtimestamp(weather['city']['sunrise'])"
   ]
  },
  {
   "cell_type": "code",
   "execution_count": 48,
   "metadata": {
    "scrolled": false
   },
   "outputs": [
    {
     "data": {
      "text/plain": [
       "[{'dt': 1683212400,\n",
       "  'main': {'temp': 302.16,\n",
       "   'feels_like': 304.68,\n",
       "   'temp_min': 298.76,\n",
       "   'temp_max': 302.16,\n",
       "   'pressure': 1009,\n",
       "   'sea_level': 1009,\n",
       "   'grnd_level': 910,\n",
       "   'humidity': 63,\n",
       "   'temp_kf': 3.4},\n",
       "  'weather': [{'id': 500,\n",
       "    'main': 'Rain',\n",
       "    'description': 'light rain',\n",
       "    'icon': '10n'}],\n",
       "  'clouds': {'all': 100},\n",
       "  'wind': {'speed': 2.48, 'deg': 59, 'gust': 2.78},\n",
       "  'visibility': 10000,\n",
       "  'pop': 0.57,\n",
       "  'rain': {'3h': 0.69},\n",
       "  'sys': {'pod': 'n'},\n",
       "  'dt_txt': '2023-05-04 15:00:00'},\n",
       " {'dt': 1683223200,\n",
       "  'main': {'temp': 300.4,\n",
       "   'feels_like': 302.07,\n",
       "   'temp_min': 296.88,\n",
       "   'temp_max': 300.4,\n",
       "   'pressure': 1009,\n",
       "   'sea_level': 1009,\n",
       "   'grnd_level': 910,\n",
       "   'humidity': 66,\n",
       "   'temp_kf': 3.52},\n",
       "  'weather': [{'id': 500,\n",
       "    'main': 'Rain',\n",
       "    'description': 'light rain',\n",
       "    'icon': '10n'}],\n",
       "  'clouds': {'all': 100},\n",
       "  'wind': {'speed': 3.36, 'deg': 85, 'gust': 4.62},\n",
       "  'visibility': 10000,\n",
       "  'pop': 0.65,\n",
       "  'rain': {'3h': 3},\n",
       "  'sys': {'pod': 'n'},\n",
       "  'dt_txt': '2023-05-04 18:00:00'},\n",
       " {'dt': 1683234000,\n",
       "  'main': {'temp': 298.29,\n",
       "   'feels_like': 298.71,\n",
       "   'temp_min': 296.35,\n",
       "   'temp_max': 298.29,\n",
       "   'pressure': 1008,\n",
       "   'sea_level': 1008,\n",
       "   'grnd_level': 908,\n",
       "   'humidity': 71,\n",
       "   'temp_kf': 1.94},\n",
       "  'weather': [{'id': 500,\n",
       "    'main': 'Rain',\n",
       "    'description': 'light rain',\n",
       "    'icon': '10n'}],\n",
       "  'clouds': {'all': 100},\n",
       "  'wind': {'speed': 2.51, 'deg': 163, 'gust': 3.98},\n",
       "  'visibility': 10000,\n",
       "  'pop': 0.92,\n",
       "  'rain': {'3h': 0.75},\n",
       "  'sys': {'pod': 'n'},\n",
       "  'dt_txt': '2023-05-04 21:00:00'},\n",
       " {'dt': 1683244800,\n",
       "  'main': {'temp': 295.95,\n",
       "   'feels_like': 296.27,\n",
       "   'temp_min': 295.95,\n",
       "   'temp_max': 295.95,\n",
       "   'pressure': 1009,\n",
       "   'sea_level': 1009,\n",
       "   'grnd_level': 908,\n",
       "   'humidity': 76,\n",
       "   'temp_kf': 0},\n",
       "  'weather': [{'id': 500,\n",
       "    'main': 'Rain',\n",
       "    'description': 'light rain',\n",
       "    'icon': '10n'}],\n",
       "  'clouds': {'all': 99},\n",
       "  'wind': {'speed': 2.7, 'deg': 240, 'gust': 4.28},\n",
       "  'visibility': 10000,\n",
       "  'pop': 0.92,\n",
       "  'rain': {'3h': 0.37},\n",
       "  'sys': {'pod': 'n'},\n",
       "  'dt_txt': '2023-05-05 00:00:00'},\n",
       " {'dt': 1683255600,\n",
       "  'main': {'temp': 297.08,\n",
       "   'feels_like': 297.3,\n",
       "   'temp_min': 297.08,\n",
       "   'temp_max': 297.08,\n",
       "   'pressure': 1011,\n",
       "   'sea_level': 1011,\n",
       "   'grnd_level': 911,\n",
       "   'humidity': 68,\n",
       "   'temp_kf': 0},\n",
       "  'weather': [{'id': 500,\n",
       "    'main': 'Rain',\n",
       "    'description': 'light rain',\n",
       "    'icon': '10d'}],\n",
       "  'clouds': {'all': 100},\n",
       "  'wind': {'speed': 3.78, 'deg': 276, 'gust': 4.75},\n",
       "  'visibility': 10000,\n",
       "  'pop': 0.82,\n",
       "  'rain': {'3h': 1.75},\n",
       "  'sys': {'pod': 'd'},\n",
       "  'dt_txt': '2023-05-05 03:00:00'},\n",
       " {'dt': 1683266400,\n",
       "  'main': {'temp': 297.2,\n",
       "   'feels_like': 297.44,\n",
       "   'temp_min': 297.2,\n",
       "   'temp_max': 297.2,\n",
       "   'pressure': 1010,\n",
       "   'sea_level': 1010,\n",
       "   'grnd_level': 910,\n",
       "   'humidity': 68,\n",
       "   'temp_kf': 0},\n",
       "  'weather': [{'id': 500,\n",
       "    'main': 'Rain',\n",
       "    'description': 'light rain',\n",
       "    'icon': '10d'}],\n",
       "  'clouds': {'all': 100},\n",
       "  'wind': {'speed': 2.51, 'deg': 242, 'gust': 3.31},\n",
       "  'visibility': 10000,\n",
       "  'pop': 0.9,\n",
       "  'rain': {'3h': 2.04},\n",
       "  'sys': {'pod': 'd'},\n",
       "  'dt_txt': '2023-05-05 06:00:00'},\n",
       " {'dt': 1683277200,\n",
       "  'main': {'temp': 296.99,\n",
       "   'feels_like': 297.23,\n",
       "   'temp_min': 296.99,\n",
       "   'temp_max': 296.99,\n",
       "   'pressure': 1008,\n",
       "   'sea_level': 1008,\n",
       "   'grnd_level': 908,\n",
       "   'humidity': 69,\n",
       "   'temp_kf': 0},\n",
       "  'weather': [{'id': 500,\n",
       "    'main': 'Rain',\n",
       "    'description': 'light rain',\n",
       "    'icon': '10d'}],\n",
       "  'clouds': {'all': 100},\n",
       "  'wind': {'speed': 2.03, 'deg': 248, 'gust': 2.9},\n",
       "  'visibility': 10000,\n",
       "  'pop': 0.59,\n",
       "  'rain': {'3h': 1.27},\n",
       "  'sys': {'pod': 'd'},\n",
       "  'dt_txt': '2023-05-05 09:00:00'},\n",
       " {'dt': 1683288000,\n",
       "  'main': {'temp': 296.59,\n",
       "   'feels_like': 296.84,\n",
       "   'temp_min': 296.59,\n",
       "   'temp_max': 296.59,\n",
       "   'pressure': 1007,\n",
       "   'sea_level': 1007,\n",
       "   'grnd_level': 907,\n",
       "   'humidity': 71,\n",
       "   'temp_kf': 0},\n",
       "  'weather': [{'id': 500,\n",
       "    'main': 'Rain',\n",
       "    'description': 'light rain',\n",
       "    'icon': '10d'}],\n",
       "  'clouds': {'all': 100},\n",
       "  'wind': {'speed': 1.88, 'deg': 346, 'gust': 3.87},\n",
       "  'visibility': 10000,\n",
       "  'pop': 0.59,\n",
       "  'rain': {'3h': 0.16},\n",
       "  'sys': {'pod': 'd'},\n",
       "  'dt_txt': '2023-05-05 12:00:00'},\n",
       " {'dt': 1683298800,\n",
       "  'main': {'temp': 296.59,\n",
       "   'feels_like': 296.82,\n",
       "   'temp_min': 296.59,\n",
       "   'temp_max': 296.59,\n",
       "   'pressure': 1010,\n",
       "   'sea_level': 1010,\n",
       "   'grnd_level': 909,\n",
       "   'humidity': 70,\n",
       "   'temp_kf': 0},\n",
       "  'weather': [{'id': 804,\n",
       "    'main': 'Clouds',\n",
       "    'description': 'overcast clouds',\n",
       "    'icon': '04n'}],\n",
       "  'clouds': {'all': 100},\n",
       "  'wind': {'speed': 2.41, 'deg': 280, 'gust': 3.79},\n",
       "  'visibility': 10000,\n",
       "  'pop': 0.32,\n",
       "  'sys': {'pod': 'n'},\n",
       "  'dt_txt': '2023-05-05 15:00:00'},\n",
       " {'dt': 1683309600,\n",
       "  'main': {'temp': 295.7,\n",
       "   'feels_like': 296.05,\n",
       "   'temp_min': 295.7,\n",
       "   'temp_max': 295.7,\n",
       "   'pressure': 1010,\n",
       "   'sea_level': 1010,\n",
       "   'grnd_level': 909,\n",
       "   'humidity': 78,\n",
       "   'temp_kf': 0},\n",
       "  'weather': [{'id': 804,\n",
       "    'main': 'Clouds',\n",
       "    'description': 'overcast clouds',\n",
       "    'icon': '04n'}],\n",
       "  'clouds': {'all': 100},\n",
       "  'wind': {'speed': 2.78, 'deg': 256, 'gust': 4.94},\n",
       "  'visibility': 10000,\n",
       "  'pop': 0.25,\n",
       "  'sys': {'pod': 'n'},\n",
       "  'dt_txt': '2023-05-05 18:00:00'},\n",
       " {'dt': 1683320400,\n",
       "  'main': {'temp': 295,\n",
       "   'feels_like': 295.36,\n",
       "   'temp_min': 295,\n",
       "   'temp_max': 295,\n",
       "   'pressure': 1008,\n",
       "   'sea_level': 1008,\n",
       "   'grnd_level': 907,\n",
       "   'humidity': 81,\n",
       "   'temp_kf': 0},\n",
       "  'weather': [{'id': 804,\n",
       "    'main': 'Clouds',\n",
       "    'description': 'overcast clouds',\n",
       "    'icon': '04n'}],\n",
       "  'clouds': {'all': 100},\n",
       "  'wind': {'speed': 2.38, 'deg': 243, 'gust': 4.13},\n",
       "  'visibility': 10000,\n",
       "  'pop': 0.31,\n",
       "  'sys': {'pod': 'n'},\n",
       "  'dt_txt': '2023-05-05 21:00:00'},\n",
       " {'dt': 1683331200,\n",
       "  'main': {'temp': 294.81,\n",
       "   'feels_like': 295.17,\n",
       "   'temp_min': 294.81,\n",
       "   'temp_max': 294.81,\n",
       "   'pressure': 1009,\n",
       "   'sea_level': 1009,\n",
       "   'grnd_level': 908,\n",
       "   'humidity': 82,\n",
       "   'temp_kf': 0},\n",
       "  'weather': [{'id': 500,\n",
       "    'main': 'Rain',\n",
       "    'description': 'light rain',\n",
       "    'icon': '10n'}],\n",
       "  'clouds': {'all': 100},\n",
       "  'wind': {'speed': 2.06, 'deg': 268, 'gust': 3.5},\n",
       "  'visibility': 10000,\n",
       "  'pop': 0.72,\n",
       "  'rain': {'3h': 0.51},\n",
       "  'sys': {'pod': 'n'},\n",
       "  'dt_txt': '2023-05-06 00:00:00'},\n",
       " {'dt': 1683342000,\n",
       "  'main': {'temp': 295.82,\n",
       "   'feels_like': 296.15,\n",
       "   'temp_min': 295.82,\n",
       "   'temp_max': 295.82,\n",
       "   'pressure': 1011,\n",
       "   'sea_level': 1011,\n",
       "   'grnd_level': 910,\n",
       "   'humidity': 77,\n",
       "   'temp_kf': 0},\n",
       "  'weather': [{'id': 500,\n",
       "    'main': 'Rain',\n",
       "    'description': 'light rain',\n",
       "    'icon': '10d'}],\n",
       "  'clouds': {'all': 100},\n",
       "  'wind': {'speed': 2.38, 'deg': 292, 'gust': 3.82},\n",
       "  'visibility': 10000,\n",
       "  'pop': 0.86,\n",
       "  'rain': {'3h': 1.72},\n",
       "  'sys': {'pod': 'd'},\n",
       "  'dt_txt': '2023-05-06 03:00:00'},\n",
       " {'dt': 1683352800,\n",
       "  'main': {'temp': 296.26,\n",
       "   'feels_like': 296.56,\n",
       "   'temp_min': 296.26,\n",
       "   'temp_max': 296.26,\n",
       "   'pressure': 1011,\n",
       "   'sea_level': 1011,\n",
       "   'grnd_level': 910,\n",
       "   'humidity': 74,\n",
       "   'temp_kf': 0},\n",
       "  'weather': [{'id': 500,\n",
       "    'main': 'Rain',\n",
       "    'description': 'light rain',\n",
       "    'icon': '10d'}],\n",
       "  'clouds': {'all': 99},\n",
       "  'wind': {'speed': 3.53, 'deg': 304, 'gust': 4.53},\n",
       "  'visibility': 10000,\n",
       "  'pop': 0.94,\n",
       "  'rain': {'3h': 0.8},\n",
       "  'sys': {'pod': 'd'},\n",
       "  'dt_txt': '2023-05-06 06:00:00'},\n",
       " {'dt': 1683363600,\n",
       "  'main': {'temp': 297.25,\n",
       "   'feels_like': 297.52,\n",
       "   'temp_min': 297.25,\n",
       "   'temp_max': 297.25,\n",
       "   'pressure': 1008,\n",
       "   'sea_level': 1008,\n",
       "   'grnd_level': 908,\n",
       "   'humidity': 69,\n",
       "   'temp_kf': 0},\n",
       "  'weather': [{'id': 500,\n",
       "    'main': 'Rain',\n",
       "    'description': 'light rain',\n",
       "    'icon': '10d'}],\n",
       "  'clouds': {'all': 96},\n",
       "  'wind': {'speed': 3.42, 'deg': 298, 'gust': 4.61},\n",
       "  'visibility': 10000,\n",
       "  'pop': 0.69,\n",
       "  'rain': {'3h': 0.56},\n",
       "  'sys': {'pod': 'd'},\n",
       "  'dt_txt': '2023-05-06 09:00:00'},\n",
       " {'dt': 1683374400,\n",
       "  'main': {'temp': 296.43,\n",
       "   'feels_like': 296.72,\n",
       "   'temp_min': 296.43,\n",
       "   'temp_max': 296.43,\n",
       "   'pressure': 1008,\n",
       "   'sea_level': 1008,\n",
       "   'grnd_level': 908,\n",
       "   'humidity': 73,\n",
       "   'temp_kf': 0},\n",
       "  'weather': [{'id': 500,\n",
       "    'main': 'Rain',\n",
       "    'description': 'light rain',\n",
       "    'icon': '10d'}],\n",
       "  'clouds': {'all': 98},\n",
       "  'wind': {'speed': 2.75, 'deg': 274, 'gust': 4.41},\n",
       "  'visibility': 7915,\n",
       "  'pop': 0.74,\n",
       "  'rain': {'3h': 2.85},\n",
       "  'sys': {'pod': 'd'},\n",
       "  'dt_txt': '2023-05-06 12:00:00'},\n",
       " {'dt': 1683385200,\n",
       "  'main': {'temp': 295.32,\n",
       "   'feels_like': 295.66,\n",
       "   'temp_min': 295.32,\n",
       "   'temp_max': 295.32,\n",
       "   'pressure': 1010,\n",
       "   'sea_level': 1010,\n",
       "   'grnd_level': 909,\n",
       "   'humidity': 79,\n",
       "   'temp_kf': 0},\n",
       "  'weather': [{'id': 500,\n",
       "    'main': 'Rain',\n",
       "    'description': 'light rain',\n",
       "    'icon': '10n'}],\n",
       "  'clouds': {'all': 100},\n",
       "  'wind': {'speed': 2.63, 'deg': 233, 'gust': 4.54},\n",
       "  'visibility': 10000,\n",
       "  'pop': 0.37,\n",
       "  'rain': {'3h': 0.64},\n",
       "  'sys': {'pod': 'n'},\n",
       "  'dt_txt': '2023-05-06 15:00:00'},\n",
       " {'dt': 1683396000,\n",
       "  'main': {'temp': 294.81,\n",
       "   'feels_like': 295.15,\n",
       "   'temp_min': 294.81,\n",
       "   'temp_max': 294.81,\n",
       "   'pressure': 1010,\n",
       "   'sea_level': 1010,\n",
       "   'grnd_level': 909,\n",
       "   'humidity': 81,\n",
       "   'temp_kf': 0},\n",
       "  'weather': [{'id': 500,\n",
       "    'main': 'Rain',\n",
       "    'description': 'light rain',\n",
       "    'icon': '10n'}],\n",
       "  'clouds': {'all': 100},\n",
       "  'wind': {'speed': 2.48, 'deg': 234, 'gust': 4.88},\n",
       "  'visibility': 10000,\n",
       "  'pop': 0.31,\n",
       "  'rain': {'3h': 0.14},\n",
       "  'sys': {'pod': 'n'},\n",
       "  'dt_txt': '2023-05-06 18:00:00'},\n",
       " {'dt': 1683406800,\n",
       "  'main': {'temp': 294.31,\n",
       "   'feels_like': 294.6,\n",
       "   'temp_min': 294.31,\n",
       "   'temp_max': 294.31,\n",
       "   'pressure': 1008,\n",
       "   'sea_level': 1008,\n",
       "   'grnd_level': 907,\n",
       "   'humidity': 81,\n",
       "   'temp_kf': 0},\n",
       "  'weather': [{'id': 804,\n",
       "    'main': 'Clouds',\n",
       "    'description': 'overcast clouds',\n",
       "    'icon': '04n'}],\n",
       "  'clouds': {'all': 100},\n",
       "  'wind': {'speed': 3.17, 'deg': 262, 'gust': 7.07},\n",
       "  'visibility': 10000,\n",
       "  'pop': 0.12,\n",
       "  'sys': {'pod': 'n'},\n",
       "  'dt_txt': '2023-05-06 21:00:00'},\n",
       " {'dt': 1683417600,\n",
       "  'main': {'temp': 294.06,\n",
       "   'feels_like': 294.4,\n",
       "   'temp_min': 294.06,\n",
       "   'temp_max': 294.06,\n",
       "   'pressure': 1009,\n",
       "   'sea_level': 1009,\n",
       "   'grnd_level': 908,\n",
       "   'humidity': 84,\n",
       "   'temp_kf': 0},\n",
       "  'weather': [{'id': 500,\n",
       "    'main': 'Rain',\n",
       "    'description': 'light rain',\n",
       "    'icon': '10n'}],\n",
       "  'clouds': {'all': 100},\n",
       "  'wind': {'speed': 2.78, 'deg': 260, 'gust': 5.65},\n",
       "  'visibility': 10000,\n",
       "  'pop': 0.29,\n",
       "  'rain': {'3h': 0.2},\n",
       "  'sys': {'pod': 'n'},\n",
       "  'dt_txt': '2023-05-07 00:00:00'},\n",
       " {'dt': 1683428400,\n",
       "  'main': {'temp': 294.52,\n",
       "   'feels_like': 294.88,\n",
       "   'temp_min': 294.52,\n",
       "   'temp_max': 294.52,\n",
       "   'pressure': 1011,\n",
       "   'sea_level': 1011,\n",
       "   'grnd_level': 910,\n",
       "   'humidity': 83,\n",
       "   'temp_kf': 0},\n",
       "  'weather': [{'id': 500,\n",
       "    'main': 'Rain',\n",
       "    'description': 'light rain',\n",
       "    'icon': '10d'}],\n",
       "  'clouds': {'all': 100},\n",
       "  'wind': {'speed': 2.82, 'deg': 257, 'gust': 4.5},\n",
       "  'visibility': 10000,\n",
       "  'pop': 0.5,\n",
       "  'rain': {'3h': 0.25},\n",
       "  'sys': {'pod': 'd'},\n",
       "  'dt_txt': '2023-05-07 03:00:00'},\n",
       " {'dt': 1683439200,\n",
       "  'main': {'temp': 296.94,\n",
       "   'feels_like': 297.15,\n",
       "   'temp_min': 296.94,\n",
       "   'temp_max': 296.94,\n",
       "   'pressure': 1011,\n",
       "   'sea_level': 1011,\n",
       "   'grnd_level': 910,\n",
       "   'humidity': 68,\n",
       "   'temp_kf': 0},\n",
       "  'weather': [{'id': 500,\n",
       "    'main': 'Rain',\n",
       "    'description': 'light rain',\n",
       "    'icon': '10d'}],\n",
       "  'clouds': {'all': 100},\n",
       "  'wind': {'speed': 4.35, 'deg': 272, 'gust': 5.97},\n",
       "  'visibility': 10000,\n",
       "  'pop': 0.43,\n",
       "  'rain': {'3h': 0.11},\n",
       "  'sys': {'pod': 'd'},\n",
       "  'dt_txt': '2023-05-07 06:00:00'},\n",
       " {'dt': 1683450000,\n",
       "  'main': {'temp': 297.34,\n",
       "   'feels_like': 297.56,\n",
       "   'temp_min': 297.34,\n",
       "   'temp_max': 297.34,\n",
       "   'pressure': 1008,\n",
       "   'sea_level': 1008,\n",
       "   'grnd_level': 908,\n",
       "   'humidity': 67,\n",
       "   'temp_kf': 0},\n",
       "  'weather': [{'id': 500,\n",
       "    'main': 'Rain',\n",
       "    'description': 'light rain',\n",
       "    'icon': '10d'}],\n",
       "  'clouds': {'all': 100},\n",
       "  'wind': {'speed': 3.73, 'deg': 268, 'gust': 6.33},\n",
       "  'visibility': 10000,\n",
       "  'pop': 0.37,\n",
       "  'rain': {'3h': 0.15},\n",
       "  'sys': {'pod': 'd'},\n",
       "  'dt_txt': '2023-05-07 09:00:00'},\n",
       " {'dt': 1683460800,\n",
       "  'main': {'temp': 297.63,\n",
       "   'feels_like': 297.86,\n",
       "   'temp_min': 297.63,\n",
       "   'temp_max': 297.63,\n",
       "   'pressure': 1008,\n",
       "   'sea_level': 1008,\n",
       "   'grnd_level': 908,\n",
       "   'humidity': 66,\n",
       "   'temp_kf': 0},\n",
       "  'weather': [{'id': 804,\n",
       "    'main': 'Clouds',\n",
       "    'description': 'overcast clouds',\n",
       "    'icon': '04d'}],\n",
       "  'clouds': {'all': 100},\n",
       "  'wind': {'speed': 3.29, 'deg': 282, 'gust': 5.21},\n",
       "  'visibility': 10000,\n",
       "  'pop': 0.06,\n",
       "  'sys': {'pod': 'd'},\n",
       "  'dt_txt': '2023-05-07 12:00:00'},\n",
       " {'dt': 1683471600,\n",
       "  'main': {'temp': 295.4,\n",
       "   'feels_like': 295.77,\n",
       "   'temp_min': 295.4,\n",
       "   'temp_max': 295.4,\n",
       "   'pressure': 1010,\n",
       "   'sea_level': 1010,\n",
       "   'grnd_level': 909,\n",
       "   'humidity': 80,\n",
       "   'temp_kf': 0},\n",
       "  'weather': [{'id': 804,\n",
       "    'main': 'Clouds',\n",
       "    'description': 'overcast clouds',\n",
       "    'icon': '04n'}],\n",
       "  'clouds': {'all': 100},\n",
       "  'wind': {'speed': 4.39, 'deg': 238, 'gust': 7.22},\n",
       "  'visibility': 10000,\n",
       "  'pop': 0.26,\n",
       "  'sys': {'pod': 'n'},\n",
       "  'dt_txt': '2023-05-07 15:00:00'},\n",
       " {'dt': 1683482400,\n",
       "  'main': {'temp': 295.14,\n",
       "   'feels_like': 295.54,\n",
       "   'temp_min': 295.14,\n",
       "   'temp_max': 295.14,\n",
       "   'pressure': 1010,\n",
       "   'sea_level': 1010,\n",
       "   'grnd_level': 909,\n",
       "   'humidity': 82,\n",
       "   'temp_kf': 0},\n",
       "  'weather': [{'id': 804,\n",
       "    'main': 'Clouds',\n",
       "    'description': 'overcast clouds',\n",
       "    'icon': '04n'}],\n",
       "  'clouds': {'all': 100},\n",
       "  'wind': {'speed': 4.14, 'deg': 260, 'gust': 8.5},\n",
       "  'visibility': 10000,\n",
       "  'pop': 0.37,\n",
       "  'sys': {'pod': 'n'},\n",
       "  'dt_txt': '2023-05-07 18:00:00'},\n",
       " {'dt': 1683493200,\n",
       "  'main': {'temp': 294.39,\n",
       "   'feels_like': 294.82,\n",
       "   'temp_min': 294.39,\n",
       "   'temp_max': 294.39,\n",
       "   'pressure': 1008,\n",
       "   'sea_level': 1008,\n",
       "   'grnd_level': 907,\n",
       "   'humidity': 86,\n",
       "   'temp_kf': 0},\n",
       "  'weather': [{'id': 804,\n",
       "    'main': 'Clouds',\n",
       "    'description': 'overcast clouds',\n",
       "    'icon': '04n'}],\n",
       "  'clouds': {'all': 100},\n",
       "  'wind': {'speed': 5.13, 'deg': 273, 'gust': 9.5},\n",
       "  'visibility': 10000,\n",
       "  'pop': 0.22,\n",
       "  'sys': {'pod': 'n'},\n",
       "  'dt_txt': '2023-05-07 21:00:00'},\n",
       " {'dt': 1683504000,\n",
       "  'main': {'temp': 294.04,\n",
       "   'feels_like': 294.43,\n",
       "   'temp_min': 294.04,\n",
       "   'temp_max': 294.04,\n",
       "   'pressure': 1009,\n",
       "   'sea_level': 1009,\n",
       "   'grnd_level': 908,\n",
       "   'humidity': 86,\n",
       "   'temp_kf': 0},\n",
       "  'weather': [{'id': 804,\n",
       "    'main': 'Clouds',\n",
       "    'description': 'overcast clouds',\n",
       "    'icon': '04n'}],\n",
       "  'clouds': {'all': 100},\n",
       "  'wind': {'speed': 4.1, 'deg': 278, 'gust': 7.98},\n",
       "  'visibility': 10000,\n",
       "  'pop': 0.22,\n",
       "  'sys': {'pod': 'n'},\n",
       "  'dt_txt': '2023-05-08 00:00:00'},\n",
       " {'dt': 1683514800,\n",
       "  'main': {'temp': 296.02,\n",
       "   'feels_like': 296.32,\n",
       "   'temp_min': 296.02,\n",
       "   'temp_max': 296.02,\n",
       "   'pressure': 1011,\n",
       "   'sea_level': 1011,\n",
       "   'grnd_level': 910,\n",
       "   'humidity': 75,\n",
       "   'temp_kf': 0},\n",
       "  'weather': [{'id': 804,\n",
       "    'main': 'Clouds',\n",
       "    'description': 'overcast clouds',\n",
       "    'icon': '04d'}],\n",
       "  'clouds': {'all': 100},\n",
       "  'wind': {'speed': 5.21, 'deg': 312, 'gust': 7.72},\n",
       "  'visibility': 10000,\n",
       "  'pop': 0.2,\n",
       "  'sys': {'pod': 'd'},\n",
       "  'dt_txt': '2023-05-08 03:00:00'},\n",
       " {'dt': 1683525600,\n",
       "  'main': {'temp': 299.88,\n",
       "   'feels_like': 300.72,\n",
       "   'temp_min': 299.88,\n",
       "   'temp_max': 299.88,\n",
       "   'pressure': 1009,\n",
       "   'sea_level': 1009,\n",
       "   'grnd_level': 910,\n",
       "   'humidity': 57,\n",
       "   'temp_kf': 0},\n",
       "  'weather': [{'id': 804,\n",
       "    'main': 'Clouds',\n",
       "    'description': 'overcast clouds',\n",
       "    'icon': '04d'}],\n",
       "  'clouds': {'all': 96},\n",
       "  'wind': {'speed': 4.99, 'deg': 299, 'gust': 5.2},\n",
       "  'visibility': 10000,\n",
       "  'pop': 0.14,\n",
       "  'sys': {'pod': 'd'},\n",
       "  'dt_txt': '2023-05-08 06:00:00'},\n",
       " {'dt': 1683536400,\n",
       "  'main': {'temp': 300.73,\n",
       "   'feels_like': 301.3,\n",
       "   'temp_min': 300.73,\n",
       "   'temp_max': 300.73,\n",
       "   'pressure': 1007,\n",
       "   'sea_level': 1007,\n",
       "   'grnd_level': 908,\n",
       "   'humidity': 52,\n",
       "   'temp_kf': 0},\n",
       "  'weather': [{'id': 804,\n",
       "    'main': 'Clouds',\n",
       "    'description': 'overcast clouds',\n",
       "    'icon': '04d'}],\n",
       "  'clouds': {'all': 99},\n",
       "  'wind': {'speed': 4.38, 'deg': 293, 'gust': 4.51},\n",
       "  'visibility': 10000,\n",
       "  'pop': 0,\n",
       "  'sys': {'pod': 'd'},\n",
       "  'dt_txt': '2023-05-08 09:00:00'},\n",
       " {'dt': 1683547200,\n",
       "  'main': {'temp': 299.73,\n",
       "   'feels_like': 299.73,\n",
       "   'temp_min': 299.73,\n",
       "   'temp_max': 299.73,\n",
       "   'pressure': 1007,\n",
       "   'sea_level': 1007,\n",
       "   'grnd_level': 908,\n",
       "   'humidity': 55,\n",
       "   'temp_kf': 0},\n",
       "  'weather': [{'id': 804,\n",
       "    'main': 'Clouds',\n",
       "    'description': 'overcast clouds',\n",
       "    'icon': '04d'}],\n",
       "  'clouds': {'all': 98},\n",
       "  'wind': {'speed': 4.07, 'deg': 298, 'gust': 4.7},\n",
       "  'visibility': 10000,\n",
       "  'pop': 0.11,\n",
       "  'sys': {'pod': 'd'},\n",
       "  'dt_txt': '2023-05-08 12:00:00'},\n",
       " {'dt': 1683558000,\n",
       "  'main': {'temp': 297.59,\n",
       "   'feels_like': 297.79,\n",
       "   'temp_min': 297.59,\n",
       "   'temp_max': 297.59,\n",
       "   'pressure': 1009,\n",
       "   'sea_level': 1009,\n",
       "   'grnd_level': 909,\n",
       "   'humidity': 65,\n",
       "   'temp_kf': 0},\n",
       "  'weather': [{'id': 804,\n",
       "    'main': 'Clouds',\n",
       "    'description': 'overcast clouds',\n",
       "    'icon': '04n'}],\n",
       "  'clouds': {'all': 100},\n",
       "  'wind': {'speed': 2.52, 'deg': 264, 'gust': 4.06},\n",
       "  'visibility': 10000,\n",
       "  'pop': 0.26,\n",
       "  'sys': {'pod': 'n'},\n",
       "  'dt_txt': '2023-05-08 15:00:00'},\n",
       " {'dt': 1683568800,\n",
       "  'main': {'temp': 296.4,\n",
       "   'feels_like': 296.63,\n",
       "   'temp_min': 296.4,\n",
       "   'temp_max': 296.4,\n",
       "   'pressure': 1010,\n",
       "   'sea_level': 1010,\n",
       "   'grnd_level': 910,\n",
       "   'humidity': 71,\n",
       "   'temp_kf': 0},\n",
       "  'weather': [{'id': 804,\n",
       "    'main': 'Clouds',\n",
       "    'description': 'overcast clouds',\n",
       "    'icon': '04n'}],\n",
       "  'clouds': {'all': 100},\n",
       "  'wind': {'speed': 2.93, 'deg': 227, 'gust': 4.22},\n",
       "  'visibility': 10000,\n",
       "  'pop': 0.25,\n",
       "  'sys': {'pod': 'n'},\n",
       "  'dt_txt': '2023-05-08 18:00:00'},\n",
       " {'dt': 1683579600,\n",
       "  'main': {'temp': 294.94,\n",
       "   'feels_like': 295.16,\n",
       "   'temp_min': 294.94,\n",
       "   'temp_max': 294.94,\n",
       "   'pressure': 1008,\n",
       "   'sea_level': 1008,\n",
       "   'grnd_level': 908,\n",
       "   'humidity': 76,\n",
       "   'temp_kf': 0},\n",
       "  'weather': [{'id': 804,\n",
       "    'main': 'Clouds',\n",
       "    'description': 'overcast clouds',\n",
       "    'icon': '04n'}],\n",
       "  'clouds': {'all': 87},\n",
       "  'wind': {'speed': 3.3, 'deg': 258, 'gust': 5.96},\n",
       "  'visibility': 10000,\n",
       "  'pop': 0.09,\n",
       "  'sys': {'pod': 'n'},\n",
       "  'dt_txt': '2023-05-08 21:00:00'},\n",
       " {'dt': 1683590400,\n",
       "  'main': {'temp': 294.02,\n",
       "   'feels_like': 294.23,\n",
       "   'temp_min': 294.02,\n",
       "   'temp_max': 294.02,\n",
       "   'pressure': 1008,\n",
       "   'sea_level': 1008,\n",
       "   'grnd_level': 907,\n",
       "   'humidity': 79,\n",
       "   'temp_kf': 0},\n",
       "  'weather': [{'id': 804,\n",
       "    'main': 'Clouds',\n",
       "    'description': 'overcast clouds',\n",
       "    'icon': '04n'}],\n",
       "  'clouds': {'all': 91},\n",
       "  'wind': {'speed': 3.52, 'deg': 241, 'gust': 6.72},\n",
       "  'visibility': 10000,\n",
       "  'pop': 0.04,\n",
       "  'sys': {'pod': 'n'},\n",
       "  'dt_txt': '2023-05-09 00:00:00'},\n",
       " {'dt': 1683601200,\n",
       "  'main': {'temp': 297.39,\n",
       "   'feels_like': 297.51,\n",
       "   'temp_min': 297.39,\n",
       "   'temp_max': 297.39,\n",
       "   'pressure': 1010,\n",
       "   'sea_level': 1010,\n",
       "   'grnd_level': 910,\n",
       "   'humidity': 63,\n",
       "   'temp_kf': 0},\n",
       "  'weather': [{'id': 804,\n",
       "    'main': 'Clouds',\n",
       "    'description': 'overcast clouds',\n",
       "    'icon': '04d'}],\n",
       "  'clouds': {'all': 88},\n",
       "  'wind': {'speed': 5.11, 'deg': 278, 'gust': 6.7},\n",
       "  'visibility': 10000,\n",
       "  'pop': 0.1,\n",
       "  'sys': {'pod': 'd'},\n",
       "  'dt_txt': '2023-05-09 03:00:00'},\n",
       " {'dt': 1683612000,\n",
       "  'main': {'temp': 303.37,\n",
       "   'feels_like': 303.48,\n",
       "   'temp_min': 303.37,\n",
       "   'temp_max': 303.37,\n",
       "   'pressure': 1009,\n",
       "   'sea_level': 1009,\n",
       "   'grnd_level': 911,\n",
       "   'humidity': 43,\n",
       "   'temp_kf': 0},\n",
       "  'weather': [{'id': 803,\n",
       "    'main': 'Clouds',\n",
       "    'description': 'broken clouds',\n",
       "    'icon': '04d'}],\n",
       "  'clouds': {'all': 68},\n",
       "  'wind': {'speed': 4.76, 'deg': 290, 'gust': 5.1},\n",
       "  'visibility': 10000,\n",
       "  'pop': 0.06,\n",
       "  'sys': {'pod': 'd'},\n",
       "  'dt_txt': '2023-05-09 06:00:00'},\n",
       " {'dt': 1683622800,\n",
       "  'main': {'temp': 305.59,\n",
       "   'feels_like': 305.7,\n",
       "   'temp_min': 305.59,\n",
       "   'temp_max': 305.59,\n",
       "   'pressure': 1005,\n",
       "   'sea_level': 1005,\n",
       "   'grnd_level': 908,\n",
       "   'humidity': 38,\n",
       "   'temp_kf': 0},\n",
       "  'weather': [{'id': 804,\n",
       "    'main': 'Clouds',\n",
       "    'description': 'overcast clouds',\n",
       "    'icon': '04d'}],\n",
       "  'clouds': {'all': 88},\n",
       "  'wind': {'speed': 5.64, 'deg': 318, 'gust': 4.96},\n",
       "  'visibility': 10000,\n",
       "  'pop': 0,\n",
       "  'sys': {'pod': 'd'},\n",
       "  'dt_txt': '2023-05-09 09:00:00'},\n",
       " {'dt': 1683633600,\n",
       "  'main': {'temp': 303.85,\n",
       "   'feels_like': 304.11,\n",
       "   'temp_min': 303.85,\n",
       "   'temp_max': 303.85,\n",
       "   'pressure': 1005,\n",
       "   'sea_level': 1005,\n",
       "   'grnd_level': 907,\n",
       "   'humidity': 43,\n",
       "   'temp_kf': 0},\n",
       "  'weather': [{'id': 500,\n",
       "    'main': 'Rain',\n",
       "    'description': 'light rain',\n",
       "    'icon': '10d'}],\n",
       "  'clouds': {'all': 84},\n",
       "  'wind': {'speed': 6.13, 'deg': 343, 'gust': 6.65},\n",
       "  'visibility': 10000,\n",
       "  'pop': 0.36,\n",
       "  'rain': {'3h': 0.11},\n",
       "  'sys': {'pod': 'd'},\n",
       "  'dt_txt': '2023-05-09 12:00:00'}]"
      ]
     },
     "execution_count": 48,
     "metadata": {},
     "output_type": "execute_result"
    }
   ],
   "source": [
    "weather['list']"
   ]
  },
  {
   "cell_type": "code",
   "execution_count": 37,
   "metadata": {},
   "outputs": [
    {
     "name": "stdout",
     "output_type": "stream",
     "text": [
      "{'dt': 1658221200, 'main': {'temp': 301.08, 'feels_like': 302.29, 'temp_min': 301.08, 'temp_max': 301.91, 'pressure': 943, 'sea_level': 943, 'grnd_level': 908, 'humidity': 58, 'temp_kf': -0.83}, 'weather': [{'id': 803, 'main': 'Clouds', 'description': 'broken clouds', 'icon': '04d'}], 'clouds': {'all': 69}, 'wind': {'speed': 3.56, 'deg': 267, 'gust': 3.47}, 'visibility': 10000, 'pop': 0, 'sys': {'pod': 'd'}, 'dt_txt': '2022-07-19 09:00:00'}\n",
      "{'dt': 1658232000, 'main': {'temp': 300.18, 'feels_like': 301.27, 'temp_min': 299.94, 'temp_max': 300.18, 'pressure': 975, 'sea_level': 975, 'grnd_level': 907, 'humidity': 60, 'temp_kf': 0.24}, 'weather': [{'id': 500, 'main': 'Rain', 'description': 'light rain', 'icon': '10d'}], 'clouds': {'all': 79}, 'wind': {'speed': 2.86, 'deg': 280, 'gust': 4}, 'visibility': 10000, 'pop': 0.4, 'rain': {'3h': 0.31}, 'sys': {'pod': 'd'}, 'dt_txt': '2022-07-19 12:00:00'}\n",
      "{'dt': 1658242800, 'main': {'temp': 297.73, 'feels_like': 298.07, 'temp_min': 297.73, 'temp_max': 297.73, 'pressure': 1009, 'sea_level': 1009, 'grnd_level': 909, 'humidity': 70, 'temp_kf': 0}, 'weather': [{'id': 500, 'main': 'Rain', 'description': 'light rain', 'icon': '10n'}], 'clouds': {'all': 100}, 'wind': {'speed': 3.46, 'deg': 281, 'gust': 5.2}, 'visibility': 10000, 'pop': 0.87, 'rain': {'3h': 1.36}, 'sys': {'pod': 'n'}, 'dt_txt': '2022-07-19 15:00:00'}\n",
      "{'dt': 1658253600, 'main': {'temp': 296.03, 'feels_like': 296.41, 'temp_min': 296.03, 'temp_max': 296.03, 'pressure': 1010, 'sea_level': 1010, 'grnd_level': 909, 'humidity': 78, 'temp_kf': 0}, 'weather': [{'id': 500, 'main': 'Rain', 'description': 'light rain', 'icon': '10n'}], 'clouds': {'all': 100}, 'wind': {'speed': 3.49, 'deg': 278, 'gust': 5.79}, 'visibility': 10000, 'pop': 0.92, 'rain': {'3h': 2.48}, 'sys': {'pod': 'n'}, 'dt_txt': '2022-07-19 18:00:00'}\n",
      "{'dt': 1658264400, 'main': {'temp': 294.51, 'feels_like': 294.95, 'temp_min': 294.51, 'temp_max': 294.51, 'pressure': 1009, 'sea_level': 1009, 'grnd_level': 908, 'humidity': 86, 'temp_kf': 0}, 'weather': [{'id': 500, 'main': 'Rain', 'description': 'light rain', 'icon': '10n'}], 'clouds': {'all': 97}, 'wind': {'speed': 4.14, 'deg': 271, 'gust': 7.23}, 'visibility': 10000, 'pop': 0.66, 'rain': {'3h': 2.88}, 'sys': {'pod': 'n'}, 'dt_txt': '2022-07-19 21:00:00'}\n"
     ]
    }
   ],
   "source": [
    "for i in range(5):\n",
    "    print(weather['list'][i]) "
   ]
  },
  {
   "cell_type": "code",
   "execution_count": 49,
   "metadata": {},
   "outputs": [
    {
     "name": "stdout",
     "output_type": "stream",
     "text": [
      "Bengaluru\n"
     ]
    }
   ],
   "source": [
    "print(weather['city']['name'])"
   ]
  },
  {
   "cell_type": "code",
   "execution_count": 50,
   "metadata": {},
   "outputs": [
    {
     "name": "stdout",
     "output_type": "stream",
     "text": [
      "2023-05-05 00:00:00\n"
     ]
    }
   ],
   "source": [
    "dt_txt = weather['list'][3]['dt_txt']\n",
    "print(dt_txt)"
   ]
  },
  {
   "cell_type": "code",
   "execution_count": 51,
   "metadata": {},
   "outputs": [
    {
     "name": "stdout",
     "output_type": "stream",
     "text": [
      "295.95\n"
     ]
    }
   ],
   "source": [
    "temp = weather['list'][3]['main']['temp']\n",
    "print(temp)"
   ]
  },
  {
   "cell_type": "code",
   "execution_count": 52,
   "metadata": {},
   "outputs": [
    {
     "name": "stdout",
     "output_type": "stream",
     "text": [
      "295.95\n"
     ]
    }
   ],
   "source": [
    "min_temp = weather['list'][3]['main']['temp_min']\n",
    "print(min_temp)"
   ]
  },
  {
   "cell_type": "code",
   "execution_count": 72,
   "metadata": {},
   "outputs": [
    {
     "name": "stdout",
     "output_type": "stream",
     "text": [
      "290.89\n"
     ]
    }
   ],
   "source": [
    "max_temp = weather['list'][3]['main']['temp_max']\n",
    "print(max_temp)"
   ]
  },
  {
   "cell_type": "code",
   "execution_count": 53,
   "metadata": {},
   "outputs": [
    {
     "name": "stdout",
     "output_type": "stream",
     "text": [
      "76\n"
     ]
    }
   ],
   "source": [
    "humidity = weather['list'][3]['main']['humidity']\n",
    "print(humidity)"
   ]
  },
  {
   "cell_type": "code",
   "execution_count": 54,
   "metadata": {},
   "outputs": [
    {
     "name": "stdout",
     "output_type": "stream",
     "text": [
      "2.7\n"
     ]
    }
   ],
   "source": [
    "wind_speed = weather['list'][3]['wind']['speed']\n",
    "print(wind_speed)"
   ]
  },
  {
   "cell_type": "code",
   "execution_count": 55,
   "metadata": {},
   "outputs": [
    {
     "data": {
      "text/plain": [
       "10000"
      ]
     },
     "execution_count": 55,
     "metadata": {},
     "output_type": "execute_result"
    }
   ],
   "source": [
    "weather['list'][3]['visibility']"
   ]
  },
  {
   "cell_type": "code",
   "execution_count": 56,
   "metadata": {},
   "outputs": [
    {
     "name": "stdout",
     "output_type": "stream",
     "text": [
      "1683212400,302.16\n",
      "1009\n",
      "Rain\n",
      "light rain\n",
      "10000\n",
      "1683223200,300.4\n",
      "1009\n",
      "Rain\n",
      "light rain\n",
      "10000\n",
      "1683234000,298.29\n",
      "1008\n",
      "Rain\n",
      "light rain\n",
      "10000\n",
      "1683244800,295.95\n",
      "1009\n",
      "Rain\n",
      "light rain\n",
      "10000\n",
      "1683255600,297.08\n",
      "1011\n",
      "Rain\n",
      "light rain\n",
      "10000\n",
      "1683266400,297.2\n",
      "1010\n",
      "Rain\n",
      "light rain\n",
      "10000\n",
      "1683277200,296.99\n",
      "1008\n",
      "Rain\n",
      "light rain\n",
      "10000\n",
      "1683288000,296.59\n",
      "1007\n",
      "Rain\n",
      "light rain\n",
      "10000\n",
      "1683298800,296.59\n",
      "1010\n",
      "Clouds\n",
      "overcast clouds\n",
      "10000\n",
      "1683309600,295.7\n",
      "1010\n",
      "Clouds\n",
      "overcast clouds\n",
      "10000\n",
      "1683320400,295\n",
      "1008\n",
      "Clouds\n",
      "overcast clouds\n",
      "10000\n",
      "1683331200,294.81\n",
      "1009\n",
      "Rain\n",
      "light rain\n",
      "10000\n",
      "1683342000,295.82\n",
      "1011\n",
      "Rain\n",
      "light rain\n",
      "10000\n",
      "1683352800,296.26\n",
      "1011\n",
      "Rain\n",
      "light rain\n",
      "10000\n",
      "1683363600,297.25\n",
      "1008\n",
      "Rain\n",
      "light rain\n",
      "10000\n",
      "1683374400,296.43\n",
      "1008\n",
      "Rain\n",
      "light rain\n",
      "7915\n",
      "1683385200,295.32\n",
      "1010\n",
      "Rain\n",
      "light rain\n",
      "10000\n",
      "1683396000,294.81\n",
      "1010\n",
      "Rain\n",
      "light rain\n",
      "10000\n",
      "1683406800,294.31\n",
      "1008\n",
      "Clouds\n",
      "overcast clouds\n",
      "10000\n",
      "1683417600,294.06\n",
      "1009\n",
      "Rain\n",
      "light rain\n",
      "10000\n",
      "1683428400,294.52\n",
      "1011\n",
      "Rain\n",
      "light rain\n",
      "10000\n",
      "1683439200,296.94\n",
      "1011\n",
      "Rain\n",
      "light rain\n",
      "10000\n",
      "1683450000,297.34\n",
      "1008\n",
      "Rain\n",
      "light rain\n",
      "10000\n",
      "1683460800,297.63\n",
      "1008\n",
      "Clouds\n",
      "overcast clouds\n",
      "10000\n",
      "1683471600,295.4\n",
      "1010\n",
      "Clouds\n",
      "overcast clouds\n",
      "10000\n",
      "1683482400,295.14\n",
      "1010\n",
      "Clouds\n",
      "overcast clouds\n",
      "10000\n",
      "1683493200,294.39\n",
      "1008\n",
      "Clouds\n",
      "overcast clouds\n",
      "10000\n",
      "1683504000,294.04\n",
      "1009\n",
      "Clouds\n",
      "overcast clouds\n",
      "10000\n",
      "1683514800,296.02\n",
      "1011\n",
      "Clouds\n",
      "overcast clouds\n",
      "10000\n",
      "1683525600,299.88\n",
      "1009\n",
      "Clouds\n",
      "overcast clouds\n",
      "10000\n",
      "1683536400,300.73\n",
      "1007\n",
      "Clouds\n",
      "overcast clouds\n",
      "10000\n",
      "1683547200,299.73\n",
      "1007\n",
      "Clouds\n",
      "overcast clouds\n",
      "10000\n",
      "1683558000,297.59\n",
      "1009\n",
      "Clouds\n",
      "overcast clouds\n",
      "10000\n",
      "1683568800,296.4\n",
      "1010\n",
      "Clouds\n",
      "overcast clouds\n",
      "10000\n",
      "1683579600,294.94\n",
      "1008\n",
      "Clouds\n",
      "overcast clouds\n",
      "10000\n",
      "1683590400,294.02\n",
      "1008\n",
      "Clouds\n",
      "overcast clouds\n",
      "10000\n",
      "1683601200,297.39\n",
      "1010\n",
      "Clouds\n",
      "overcast clouds\n",
      "10000\n",
      "1683612000,303.37\n",
      "1009\n",
      "Clouds\n",
      "broken clouds\n",
      "10000\n",
      "1683622800,305.59\n",
      "1005\n",
      "Clouds\n",
      "overcast clouds\n",
      "10000\n",
      "1683633600,303.85\n",
      "1005\n",
      "Rain\n",
      "light rain\n",
      "10000\n"
     ]
    }
   ],
   "source": [
    "for i in (weather['list']):\n",
    "    print(i['dt'],end=',')\n",
    "    print(i['main']['temp'])\n",
    "    print(i['main']['pressure'])\n",
    "    print(i['weather'][0]['main'])\n",
    "    print(i['weather'][0]['description'])\n",
    "    print(i['visibility'])"
   ]
  },
  {
   "cell_type": "markdown",
   "metadata": {},
   "source": [
    "#### Open Public Apis - rapidapi.com\n",
    "\n",
    "  https://rapidapi.com/collection/list-of-free-apis\n",
    "  \n",
    "  https://docs.rapidapi.com/docs/basics-creating-a-project"
   ]
  },
  {
   "cell_type": "code",
   "execution_count": 3,
   "metadata": {},
   "outputs": [
    {
     "name": "stdout",
     "output_type": "stream",
     "text": [
      "{\n",
      " \"text\": \"Costa Rica has pledged to become a completely carbon-neutral nation by this date\",\n",
      " \"number\": 2021,\n",
      " \"found\": true,\n",
      " \"type\": \"year\"\n",
      "}\n"
     ]
    }
   ],
   "source": [
    "# An API for interesting facts about numbers. Provides trivia, math, date, and year facts about numbers.\n",
    "\n",
    "\n",
    "import requests\n",
    "\n",
    "url = \"https://numbersapi.p.rapidapi.com/2021/year\"\n",
    "\n",
    "querystring = {\"json\":\"true\",\"fragment\":\"true\"}\n",
    "\n",
    "headers = {\n",
    "    'x-rapidapi-key': \"edc7eb2e69msh81bf0b2e98e44cep1c0e18jsn92b9fbf1cac5\",\n",
    "    'x-rapidapi-host': \"numbersapi.p.rapidapi.com\"\n",
    "    }\n",
    "\n",
    "response = requests.request(\"GET\", url, headers=headers, params=querystring)\n",
    "\n",
    "print(response.text)\n",
    "\n"
   ]
  },
  {
   "cell_type": "code",
   "execution_count": 4,
   "metadata": {},
   "outputs": [
    {
     "data": {
      "text/plain": [
       "dict_keys(['text', 'number', 'found', 'type'])"
      ]
     },
     "execution_count": 4,
     "metadata": {},
     "output_type": "execute_result"
    }
   ],
   "source": [
    "data.keys()"
   ]
  },
  {
   "cell_type": "code",
   "execution_count": 5,
   "metadata": {},
   "outputs": [
    {
     "data": {
      "text/plain": [
       "dict_values(['Earliest expected date for the first manned Orion mission', 2021, True, 'year'])"
      ]
     },
     "execution_count": 5,
     "metadata": {},
     "output_type": "execute_result"
    }
   ],
   "source": [
    "data.values()"
   ]
  },
  {
   "cell_type": "markdown",
   "metadata": {},
   "source": [
    "### Ref link- https://realpython.com/python-api/\n"
   ]
  },
  {
   "cell_type": "markdown",
   "metadata": {},
   "source": [
    "### Homework  : Try to send a GET request to NEWS API end point & print relavant Information"
   ]
  }
 ],
 "metadata": {
  "hide_input": false,
  "kernelspec": {
   "display_name": "Python 3 (ipykernel)",
   "language": "python",
   "name": "python3"
  },
  "language_info": {
   "codemirror_mode": {
    "name": "ipython",
    "version": 3
   },
   "file_extension": ".py",
   "mimetype": "text/x-python",
   "name": "python",
   "nbconvert_exporter": "python",
   "pygments_lexer": "ipython3",
   "version": "3.10.0"
  }
 },
 "nbformat": 4,
 "nbformat_minor": 4
}
